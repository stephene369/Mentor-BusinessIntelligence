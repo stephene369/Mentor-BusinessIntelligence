{
 "cells": [
  {
   "cell_type": "code",
   "execution_count": 1,
   "metadata": {},
   "outputs": [],
   "source": [
    "import pandas as pd \n",
    "import numpy as np\n"
   ]
  },
  {
   "cell_type": "code",
   "execution_count": 2,
   "metadata": {},
   "outputs": [],
   "source": [
    "sales =pd.read_csv('/home/kali/Documents/projects/MentorBI/US+Candy+Distributor/Candy_Sales.csv')\n",
    "uszips = pd.read_csv('/home/kali/Documents/projects/MentorBI/US+Candy+Distributor/uszips.csv')"
   ]
  },
  {
   "cell_type": "code",
   "execution_count": 3,
   "metadata": {},
   "outputs": [],
   "source": [
    "sales['Postal Code'] = sales['Postal Code'].apply(lambda x : str(x))\n",
    "uszips['zip'] = uszips['zip'].apply(lambda x : str(x))\n"
   ]
  },
  {
   "cell_type": "code",
   "execution_count": 4,
   "metadata": {},
   "outputs": [],
   "source": [
    "\n",
    "sales_uszips = pd.merge(sales, uszips, how='left', left_on='Postal Code', right_on='zip')\n"
   ]
  },
  {
   "cell_type": "code",
   "execution_count": 5,
   "metadata": {},
   "outputs": [],
   "source": [
    "factory = pd.read_csv('US+Candy+Distributor/Candy_Factories.csv')\n",
    "product = pd.read_csv('US+Candy+Distributor/Candy_Products.csv')"
   ]
  },
  {
   "cell_type": "code",
   "execution_count": 6,
   "metadata": {},
   "outputs": [
    {
     "data": {
      "text/html": [
       "<div>\n",
       "<style scoped>\n",
       "    .dataframe tbody tr th:only-of-type {\n",
       "        vertical-align: middle;\n",
       "    }\n",
       "\n",
       "    .dataframe tbody tr th {\n",
       "        vertical-align: top;\n",
       "    }\n",
       "\n",
       "    .dataframe thead th {\n",
       "        text-align: right;\n",
       "    }\n",
       "</style>\n",
       "<table border=\"1\" class=\"dataframe\">\n",
       "  <thead>\n",
       "    <tr style=\"text-align: right;\">\n",
       "      <th></th>\n",
       "      <th>Factory</th>\n",
       "      <th>Latitude</th>\n",
       "      <th>Longitude</th>\n",
       "    </tr>\n",
       "  </thead>\n",
       "  <tbody>\n",
       "    <tr>\n",
       "      <th>0</th>\n",
       "      <td>Lot's O' Nuts</td>\n",
       "      <td>32.881893</td>\n",
       "      <td>-111.768036</td>\n",
       "    </tr>\n",
       "    <tr>\n",
       "      <th>1</th>\n",
       "      <td>Wicked Choccy's</td>\n",
       "      <td>32.076176</td>\n",
       "      <td>-81.088371</td>\n",
       "    </tr>\n",
       "    <tr>\n",
       "      <th>2</th>\n",
       "      <td>Sugar Shack</td>\n",
       "      <td>48.119140</td>\n",
       "      <td>-96.181150</td>\n",
       "    </tr>\n",
       "    <tr>\n",
       "      <th>3</th>\n",
       "      <td>Secret Factory</td>\n",
       "      <td>41.446333</td>\n",
       "      <td>-90.565487</td>\n",
       "    </tr>\n",
       "    <tr>\n",
       "      <th>4</th>\n",
       "      <td>The Other Factory</td>\n",
       "      <td>35.117500</td>\n",
       "      <td>-89.971107</td>\n",
       "    </tr>\n",
       "  </tbody>\n",
       "</table>\n",
       "</div>"
      ],
      "text/plain": [
       "             Factory   Latitude   Longitude\n",
       "0      Lot's O' Nuts  32.881893 -111.768036\n",
       "1    Wicked Choccy's  32.076176  -81.088371\n",
       "2        Sugar Shack  48.119140  -96.181150\n",
       "3     Secret Factory  41.446333  -90.565487\n",
       "4  The Other Factory  35.117500  -89.971107"
      ]
     },
     "execution_count": 6,
     "metadata": {},
     "output_type": "execute_result"
    }
   ],
   "source": [
    "factory.head()"
   ]
  },
  {
   "cell_type": "code",
   "execution_count": 7,
   "metadata": {},
   "outputs": [
    {
     "data": {
      "text/html": [
       "<div>\n",
       "<style scoped>\n",
       "    .dataframe tbody tr th:only-of-type {\n",
       "        vertical-align: middle;\n",
       "    }\n",
       "\n",
       "    .dataframe tbody tr th {\n",
       "        vertical-align: top;\n",
       "    }\n",
       "\n",
       "    .dataframe thead th {\n",
       "        text-align: right;\n",
       "    }\n",
       "</style>\n",
       "<table border=\"1\" class=\"dataframe\">\n",
       "  <thead>\n",
       "    <tr style=\"text-align: right;\">\n",
       "      <th></th>\n",
       "      <th>Division</th>\n",
       "      <th>Product Name</th>\n",
       "      <th>Factory</th>\n",
       "      <th>Product ID</th>\n",
       "      <th>Unit Price</th>\n",
       "      <th>Unit Cost</th>\n",
       "    </tr>\n",
       "  </thead>\n",
       "  <tbody>\n",
       "    <tr>\n",
       "      <th>0</th>\n",
       "      <td>Chocolate</td>\n",
       "      <td>Wonka Bar - Nutty Crunch Surprise</td>\n",
       "      <td>Lot's O' Nuts</td>\n",
       "      <td>CHO-NUT-13000</td>\n",
       "      <td>3.49</td>\n",
       "      <td>1.00</td>\n",
       "    </tr>\n",
       "    <tr>\n",
       "      <th>1</th>\n",
       "      <td>Chocolate</td>\n",
       "      <td>Wonka Bar - Fudge Mallows</td>\n",
       "      <td>Lot's O' Nuts</td>\n",
       "      <td>CHO-FUD-51000</td>\n",
       "      <td>3.60</td>\n",
       "      <td>1.20</td>\n",
       "    </tr>\n",
       "    <tr>\n",
       "      <th>2</th>\n",
       "      <td>Chocolate</td>\n",
       "      <td>Wonka Bar -Scrumdiddlyumptious</td>\n",
       "      <td>Lot's O' Nuts</td>\n",
       "      <td>CHO-SCR-58000</td>\n",
       "      <td>3.60</td>\n",
       "      <td>1.10</td>\n",
       "    </tr>\n",
       "    <tr>\n",
       "      <th>3</th>\n",
       "      <td>Chocolate</td>\n",
       "      <td>Wonka Bar - Milk Chocolate</td>\n",
       "      <td>Wicked Choccy's</td>\n",
       "      <td>CHO-MIL-31000</td>\n",
       "      <td>3.25</td>\n",
       "      <td>1.14</td>\n",
       "    </tr>\n",
       "    <tr>\n",
       "      <th>4</th>\n",
       "      <td>Chocolate</td>\n",
       "      <td>Wonka Bar - Triple Dazzle Caramel</td>\n",
       "      <td>Wicked Choccy's</td>\n",
       "      <td>CHO-TRI-54000</td>\n",
       "      <td>3.75</td>\n",
       "      <td>1.30</td>\n",
       "    </tr>\n",
       "  </tbody>\n",
       "</table>\n",
       "</div>"
      ],
      "text/plain": [
       "    Division                       Product Name          Factory  \\\n",
       "0  Chocolate  Wonka Bar - Nutty Crunch Surprise    Lot's O' Nuts   \n",
       "1  Chocolate          Wonka Bar - Fudge Mallows    Lot's O' Nuts   \n",
       "2  Chocolate     Wonka Bar -Scrumdiddlyumptious    Lot's O' Nuts   \n",
       "3  Chocolate         Wonka Bar - Milk Chocolate  Wicked Choccy's   \n",
       "4  Chocolate  Wonka Bar - Triple Dazzle Caramel  Wicked Choccy's   \n",
       "\n",
       "      Product ID  Unit Price  Unit Cost  \n",
       "0  CHO-NUT-13000        3.49       1.00  \n",
       "1  CHO-FUD-51000        3.60       1.20  \n",
       "2  CHO-SCR-58000        3.60       1.10  \n",
       "3  CHO-MIL-31000        3.25       1.14  \n",
       "4  CHO-TRI-54000        3.75       1.30  "
      ]
     },
     "execution_count": 7,
     "metadata": {},
     "output_type": "execute_result"
    }
   ],
   "source": [
    "product.head()"
   ]
  },
  {
   "cell_type": "code",
   "execution_count": 8,
   "metadata": {},
   "outputs": [],
   "source": [
    "\n",
    "from math import radians, sin, cos, sqrt, atan2\n",
    "\n",
    "def calculate_distance(lat1, lon1, lat2, lon2):\n",
    "    # Convert latitude and longitude to radians\n",
    "    lat1, lon1, lat2, lon2 = map(radians, [lat1, lon1, lat2, lon2])\n",
    "    \n",
    "    # Haversine formula\n",
    "    dlat = lat2 - lat1\n",
    "    dlon = lon2 - lon1\n",
    "    \n",
    "    a = sin(dlat/2)**2 + cos(lat1) * cos(lat2) * sin(dlon/2)**2\n",
    "    c = 2 * atan2(sqrt(a), sqrt(1-a))\n",
    "    \n",
    "    # Radius of Earth in kilometers\n",
    "    R = 6371\n",
    "    \n",
    "    # Calculate distance\n",
    "    distance = R * c\n",
    "    \n",
    "    return distance\n"
   ]
  },
  {
   "cell_type": "code",
   "execution_count": 9,
   "metadata": {},
   "outputs": [],
   "source": [
    "sales_uszips['Factory'] = ''\n",
    "sales_uszips['Factory_lng'] = 0.0\n",
    "sales_uszips['Factory_lat'] = 0.0\n",
    "sales_uszips['marge'] = 0.0\n",
    "\n",
    "sales_uszips['isFactory'] = False"
   ]
  },
  {
   "cell_type": "code",
   "execution_count": 10,
   "metadata": {},
   "outputs": [],
   "source": [
    "for i in range (len(sales_uszips) ) :\n",
    "    product_name = sales_uszips.loc[i]['Product Name']\n",
    "\n",
    "    factory_name = product[product['Product Name'] == product_name]['Factory'].values[0] \n",
    "    sales_uszips.loc[ i, 'Factory'] = factory_name \n",
    "\n",
    "    longitute = factory[ factory['Factory'] == factory_name ]['Longitude'].values[0] \n",
    "    latitude = factory[ factory['Factory'] == factory_name ]['Latitude'].values[0] \n",
    "\n",
    "    sales_uszips.loc[ i , 'Factory_lng' ] = longitute\n",
    "    sales_uszips.loc[ i ,  'Factory_lat' ] = latitude\n",
    "\n"
   ]
  },
  {
   "cell_type": "code",
   "execution_count": 11,
   "metadata": {},
   "outputs": [],
   "source": [
    "def haversine_distance(lat1, lon1, lat2, lon2):\n",
    "    R = 6371  # Earth's radius in kilometers\n",
    "    \n",
    "    lat1, lon1, lat2, lon2 = map(np.radians, [lat1, lon1, lat2, lon2])\n",
    "    \n",
    "    dlat = lat2 - lat1\n",
    "    dlon = lon2 - lon1\n",
    "    \n",
    "    a = np.sin(dlat/2)**2 + np.cos(lat1) * np.cos(lat2) * np.sin(dlon/2)**2\n",
    "    c = 2 * np.arcsin(np.sqrt(a))\n",
    "    distance = R * c\n",
    "    \n",
    "    return distance\n",
    "\n",
    "sales_uszips['distance'] = haversine_distance(\n",
    "    sales_uszips['lat'], \n",
    "    sales_uszips['lng'],\n",
    "    sales_uszips['Factory_lat'], \n",
    "    sales_uszips['Factory_lng']\n",
    ")"
   ]
  },
  {
   "cell_type": "code",
   "execution_count": 12,
   "metadata": {},
   "outputs": [
    {
     "data": {
      "text/html": [
       "<div>\n",
       "<style scoped>\n",
       "    .dataframe tbody tr th:only-of-type {\n",
       "        vertical-align: middle;\n",
       "    }\n",
       "\n",
       "    .dataframe tbody tr th {\n",
       "        vertical-align: top;\n",
       "    }\n",
       "\n",
       "    .dataframe thead th {\n",
       "        text-align: right;\n",
       "    }\n",
       "</style>\n",
       "<table border=\"1\" class=\"dataframe\">\n",
       "  <thead>\n",
       "    <tr style=\"text-align: right;\">\n",
       "      <th></th>\n",
       "      <th>Factory</th>\n",
       "      <th>Latitude</th>\n",
       "      <th>Longitude</th>\n",
       "    </tr>\n",
       "  </thead>\n",
       "  <tbody>\n",
       "    <tr>\n",
       "      <th>0</th>\n",
       "      <td>Lot's O' Nuts</td>\n",
       "      <td>32.881893</td>\n",
       "      <td>-111.768036</td>\n",
       "    </tr>\n",
       "    <tr>\n",
       "      <th>1</th>\n",
       "      <td>Wicked Choccy's</td>\n",
       "      <td>32.076176</td>\n",
       "      <td>-81.088371</td>\n",
       "    </tr>\n",
       "    <tr>\n",
       "      <th>2</th>\n",
       "      <td>Sugar Shack</td>\n",
       "      <td>48.119140</td>\n",
       "      <td>-96.181150</td>\n",
       "    </tr>\n",
       "    <tr>\n",
       "      <th>3</th>\n",
       "      <td>Secret Factory</td>\n",
       "      <td>41.446333</td>\n",
       "      <td>-90.565487</td>\n",
       "    </tr>\n",
       "    <tr>\n",
       "      <th>4</th>\n",
       "      <td>The Other Factory</td>\n",
       "      <td>35.117500</td>\n",
       "      <td>-89.971107</td>\n",
       "    </tr>\n",
       "  </tbody>\n",
       "</table>\n",
       "</div>"
      ],
      "text/plain": [
       "             Factory   Latitude   Longitude\n",
       "0      Lot's O' Nuts  32.881893 -111.768036\n",
       "1    Wicked Choccy's  32.076176  -81.088371\n",
       "2        Sugar Shack  48.119140  -96.181150\n",
       "3     Secret Factory  41.446333  -90.565487\n",
       "4  The Other Factory  35.117500  -89.971107"
      ]
     },
     "execution_count": 12,
     "metadata": {},
     "output_type": "execute_result"
    }
   ],
   "source": [
    "factory"
   ]
  },
  {
   "cell_type": "code",
   "execution_count": 14,
   "metadata": {},
   "outputs": [
    {
     "data": {
      "text/html": [
       "<div>\n",
       "<style scoped>\n",
       "    .dataframe tbody tr th:only-of-type {\n",
       "        vertical-align: middle;\n",
       "    }\n",
       "\n",
       "    .dataframe tbody tr th {\n",
       "        vertical-align: top;\n",
       "    }\n",
       "\n",
       "    .dataframe thead th {\n",
       "        text-align: right;\n",
       "    }\n",
       "</style>\n",
       "<table border=\"1\" class=\"dataframe\">\n",
       "  <thead>\n",
       "    <tr style=\"text-align: right;\">\n",
       "      <th></th>\n",
       "      <th>Factory</th>\n",
       "      <th>Latitude</th>\n",
       "      <th>Longitude</th>\n",
       "    </tr>\n",
       "  </thead>\n",
       "  <tbody>\n",
       "    <tr>\n",
       "      <th>0</th>\n",
       "      <td>Lot's O' Nuts</td>\n",
       "      <td>32.881893</td>\n",
       "      <td>-111.768036</td>\n",
       "    </tr>\n",
       "    <tr>\n",
       "      <th>1</th>\n",
       "      <td>Wicked Choccy's</td>\n",
       "      <td>32.076176</td>\n",
       "      <td>-81.088371</td>\n",
       "    </tr>\n",
       "    <tr>\n",
       "      <th>2</th>\n",
       "      <td>Sugar Shack</td>\n",
       "      <td>48.119140</td>\n",
       "      <td>-96.181150</td>\n",
       "    </tr>\n",
       "    <tr>\n",
       "      <th>3</th>\n",
       "      <td>Secret Factory</td>\n",
       "      <td>41.446333</td>\n",
       "      <td>-90.565487</td>\n",
       "    </tr>\n",
       "    <tr>\n",
       "      <th>4</th>\n",
       "      <td>The Other Factory</td>\n",
       "      <td>35.117500</td>\n",
       "      <td>-89.971107</td>\n",
       "    </tr>\n",
       "  </tbody>\n",
       "</table>\n",
       "</div>"
      ],
      "text/plain": [
       "             Factory   Latitude   Longitude\n",
       "0      Lot's O' Nuts  32.881893 -111.768036\n",
       "1    Wicked Choccy's  32.076176  -81.088371\n",
       "2        Sugar Shack  48.119140  -96.181150\n",
       "3     Secret Factory  41.446333  -90.565487\n",
       "4  The Other Factory  35.117500  -89.971107"
      ]
     },
     "execution_count": 14,
     "metadata": {},
     "output_type": "execute_result"
    }
   ],
   "source": [
    "factory"
   ]
  },
  {
   "cell_type": "code",
   "execution_count": 15,
   "metadata": {},
   "outputs": [],
   "source": [
    "factory_location = {\n",
    "    'Factory':factory['Factory'].to_list() , \n",
    "    'lat': factory['Latitude'].to_list() , \n",
    "    'lng': factory['Longitude'].to_list() , \n",
    "    'isFactory':[True , True , True, True, True]\n",
    "}"
   ]
  },
  {
   "cell_type": "code",
   "execution_count": 16,
   "metadata": {},
   "outputs": [],
   "source": [
    "sales_uszips = pd.concat([sales_uszips , pd.DataFrame(factory_location) ], ignore_index = True)"
   ]
  },
  {
   "cell_type": "code",
   "execution_count": 18,
   "metadata": {},
   "outputs": [],
   "source": [
    "sales_uszips.to_csv('sales_uszips.csv')"
   ]
  },
  {
   "cell_type": "code",
   "execution_count": 20,
   "metadata": {},
   "outputs": [
    {
     "data": {
      "text/plain": [
       "10199"
      ]
     },
     "execution_count": 20,
     "metadata": {},
     "output_type": "execute_result"
    }
   ],
   "source": [
    "len(sales_uszips)\n"
   ]
  },
  {
   "cell_type": "code",
   "execution_count": 25,
   "metadata": {},
   "outputs": [],
   "source": [
    "df0 = sales_uszips [sales_uszips[\"Ship Mode\"]  == \"First Class\"  ]\n",
    " "
   ]
  },
  {
   "cell_type": "code",
   "execution_count": null,
   "metadata": {},
   "outputs": [],
   "source": []
  },
  {
   "cell_type": "code",
   "execution_count": 2,
   "metadata": {},
   "outputs": [],
   "source": [
    "import pandas as pd"
   ]
  },
  {
   "cell_type": "code",
   "execution_count": 3,
   "metadata": {},
   "outputs": [],
   "source": [
    "p = pd.read_csv('US+Candy+Distributor/Candy_Products.csv')"
   ]
  },
  {
   "cell_type": "code",
   "execution_count": 4,
   "metadata": {},
   "outputs": [],
   "source": [
    "p['marge'] = p[\"Unit Price\"] - p[\"Unit Cost\"]"
   ]
  },
  {
   "cell_type": "code",
   "execution_count": 5,
   "metadata": {},
   "outputs": [
    {
     "data": {
      "text/plain": [
       "[2.49,\n",
       " 2.4000000000000004,\n",
       " 2.5,\n",
       " 2.1100000000000003,\n",
       " 2.45,\n",
       " 1.24,\n",
       " 0.7,\n",
       " 0.7,\n",
       " 0.6,\n",
       " 2.25,\n",
       " 8.0,\n",
       " 3.5,\n",
       " 10.0,\n",
       " 0.65,\n",
       " 0.25]"
      ]
     },
     "execution_count": 5,
     "metadata": {},
     "output_type": "execute_result"
    }
   ],
   "source": [
    "p['marge'].to_list()"
   ]
  },
  {
   "cell_type": "code",
   "execution_count": 6,
   "metadata": {},
   "outputs": [],
   "source": [
    "mode = [\"First Class\" , \"Second Class\" ,\"Standard Class\" ,\"Same Day\" ]\n",
    "product_name = ['Wonka Bar - Nutty Crunch Surprise',\n",
    " 'Wonka Bar - Fudge Mallows',\n",
    " 'Wonka Bar -Scrumdiddlyumptious',\n",
    " 'Wonka Bar - Milk Chocolate',\n",
    " 'Wonka Bar - Triple Dazzle Caramel',\n",
    " 'Laffy Taffy',\n",
    " 'SweeTARTS',\n",
    " 'Nerds',\n",
    " 'Fun Dip',\n",
    " 'Fizzy Lifting Drinks',\n",
    " 'Everlasting Gobstopper',\n",
    " 'Hair Toffee',\n",
    " 'Lickable Wallpaper',\n",
    " 'Wonka Gum',\n",
    " 'Kazookles']\n",
    "profit = [2.49,  2.4,\n",
    " 2.5,\n",
    " 2.11,\n",
    " 2.45,\n",
    " 1.24,\n",
    " 0.7,\n",
    " 0.7,\n",
    " 0.6,\n",
    " 2.25,\n",
    " 8.0,\n",
    " 3.5,\n",
    " 10.0,\n",
    " 0.65,\n",
    " 0.25]"
   ]
  },
  {
   "cell_type": "code",
   "execution_count": 7,
   "metadata": {},
   "outputs": [],
   "source": [
    "data = {\n",
    "    \"Ship-Mode\":[],\n",
    "    \"Product-Name\":[],\n",
    "    \"Profit\":[]\n",
    "}\n",
    "for mod in mode : \n",
    "    for i , prod in enumerate(product_name) : \n",
    "        data[\"Ship-Mode\"].append(mod)\n",
    "        data[\"Product-Name\"].append(prod)\n",
    "        data[\"Profit\"].append(profit[i])"
   ]
  },
  {
   "cell_type": "code",
   "execution_count": 8,
   "metadata": {},
   "outputs": [
    {
     "data": {
      "text/html": [
       "<div>\n",
       "<style scoped>\n",
       "    .dataframe tbody tr th:only-of-type {\n",
       "        vertical-align: middle;\n",
       "    }\n",
       "\n",
       "    .dataframe tbody tr th {\n",
       "        vertical-align: top;\n",
       "    }\n",
       "\n",
       "    .dataframe thead th {\n",
       "        text-align: right;\n",
       "    }\n",
       "</style>\n",
       "<table border=\"1\" class=\"dataframe\">\n",
       "  <thead>\n",
       "    <tr style=\"text-align: right;\">\n",
       "      <th></th>\n",
       "      <th>Ship-Mode</th>\n",
       "      <th>Product-Name</th>\n",
       "      <th>Profit</th>\n",
       "    </tr>\n",
       "  </thead>\n",
       "  <tbody>\n",
       "    <tr>\n",
       "      <th>0</th>\n",
       "      <td>First Class</td>\n",
       "      <td>Wonka Bar - Nutty Crunch Surprise</td>\n",
       "      <td>2.49</td>\n",
       "    </tr>\n",
       "    <tr>\n",
       "      <th>1</th>\n",
       "      <td>First Class</td>\n",
       "      <td>Wonka Bar - Fudge Mallows</td>\n",
       "      <td>2.40</td>\n",
       "    </tr>\n",
       "    <tr>\n",
       "      <th>2</th>\n",
       "      <td>First Class</td>\n",
       "      <td>Wonka Bar -Scrumdiddlyumptious</td>\n",
       "      <td>2.50</td>\n",
       "    </tr>\n",
       "    <tr>\n",
       "      <th>3</th>\n",
       "      <td>First Class</td>\n",
       "      <td>Wonka Bar - Milk Chocolate</td>\n",
       "      <td>2.11</td>\n",
       "    </tr>\n",
       "    <tr>\n",
       "      <th>4</th>\n",
       "      <td>First Class</td>\n",
       "      <td>Wonka Bar - Triple Dazzle Caramel</td>\n",
       "      <td>2.45</td>\n",
       "    </tr>\n",
       "  </tbody>\n",
       "</table>\n",
       "</div>"
      ],
      "text/plain": [
       "     Ship-Mode                       Product-Name  Profit\n",
       "0  First Class  Wonka Bar - Nutty Crunch Surprise    2.49\n",
       "1  First Class          Wonka Bar - Fudge Mallows    2.40\n",
       "2  First Class     Wonka Bar -Scrumdiddlyumptious    2.50\n",
       "3  First Class         Wonka Bar - Milk Chocolate    2.11\n",
       "4  First Class  Wonka Bar - Triple Dazzle Caramel    2.45"
      ]
     },
     "execution_count": 8,
     "metadata": {},
     "output_type": "execute_result"
    }
   ],
   "source": [
    "data_ = pd.DataFrame(data)\n",
    "data_.head()\n"
   ]
  },
  {
   "cell_type": "code",
   "execution_count": 9,
   "metadata": {},
   "outputs": [],
   "source": [
    "data_.to_csv('US+Candy+Distributor/profit-shipMode.csv')"
   ]
  },
  {
   "cell_type": "code",
   "execution_count": 10,
   "metadata": {},
   "outputs": [],
   "source": [
    "import seaborn as snb"
   ]
  },
  {
   "cell_type": "code",
   "execution_count": 11,
   "metadata": {},
   "outputs": [
    {
     "data": {
      "text/html": [
       "<div>\n",
       "<style scoped>\n",
       "    .dataframe tbody tr th:only-of-type {\n",
       "        vertical-align: middle;\n",
       "    }\n",
       "\n",
       "    .dataframe tbody tr th {\n",
       "        vertical-align: top;\n",
       "    }\n",
       "\n",
       "    .dataframe thead th {\n",
       "        text-align: right;\n",
       "    }\n",
       "</style>\n",
       "<table border=\"1\" class=\"dataframe\">\n",
       "  <thead>\n",
       "    <tr style=\"text-align: right;\">\n",
       "      <th></th>\n",
       "      <th>Ship-Mode</th>\n",
       "      <th>Product-Name</th>\n",
       "      <th>Profit</th>\n",
       "    </tr>\n",
       "  </thead>\n",
       "  <tbody>\n",
       "    <tr>\n",
       "      <th>0</th>\n",
       "      <td>First Class</td>\n",
       "      <td>Wonka Bar - Nutty Crunch Surprise</td>\n",
       "      <td>2.49</td>\n",
       "    </tr>\n",
       "    <tr>\n",
       "      <th>15</th>\n",
       "      <td>Second Class</td>\n",
       "      <td>Wonka Bar - Nutty Crunch Surprise</td>\n",
       "      <td>2.49</td>\n",
       "    </tr>\n",
       "    <tr>\n",
       "      <th>30</th>\n",
       "      <td>Standard Class</td>\n",
       "      <td>Wonka Bar - Nutty Crunch Surprise</td>\n",
       "      <td>2.49</td>\n",
       "    </tr>\n",
       "    <tr>\n",
       "      <th>45</th>\n",
       "      <td>Same Day</td>\n",
       "      <td>Wonka Bar - Nutty Crunch Surprise</td>\n",
       "      <td>2.49</td>\n",
       "    </tr>\n",
       "  </tbody>\n",
       "</table>\n",
       "</div>"
      ],
      "text/plain": [
       "         Ship-Mode                       Product-Name  Profit\n",
       "0      First Class  Wonka Bar - Nutty Crunch Surprise    2.49\n",
       "15    Second Class  Wonka Bar - Nutty Crunch Surprise    2.49\n",
       "30  Standard Class  Wonka Bar - Nutty Crunch Surprise    2.49\n",
       "45        Same Day  Wonka Bar - Nutty Crunch Surprise    2.49"
      ]
     },
     "execution_count": 11,
     "metadata": {},
     "output_type": "execute_result"
    }
   ],
   "source": [
    "wonka = data_[data_['Product-Name'] == 'Wonka Bar - Nutty Crunch Surprise']\n",
    "wonka"
   ]
  },
  {
   "cell_type": "code",
   "execution_count": 15,
   "metadata": {},
   "outputs": [
    {
     "data": {
      "text/html": [
       "<div>\n",
       "<style scoped>\n",
       "    .dataframe tbody tr th:only-of-type {\n",
       "        vertical-align: middle;\n",
       "    }\n",
       "\n",
       "    .dataframe tbody tr th {\n",
       "        vertical-align: top;\n",
       "    }\n",
       "\n",
       "    .dataframe thead th {\n",
       "        text-align: right;\n",
       "    }\n",
       "</style>\n",
       "<table border=\"1\" class=\"dataframe\">\n",
       "  <thead>\n",
       "    <tr style=\"text-align: right;\">\n",
       "      <th>Ship-Mode</th>\n",
       "      <th>First Class</th>\n",
       "      <th>Same Day</th>\n",
       "      <th>Second Class</th>\n",
       "      <th>Standard Class</th>\n",
       "    </tr>\n",
       "    <tr>\n",
       "      <th>Product-Name</th>\n",
       "      <th></th>\n",
       "      <th></th>\n",
       "      <th></th>\n",
       "      <th></th>\n",
       "    </tr>\n",
       "  </thead>\n",
       "  <tbody>\n",
       "    <tr>\n",
       "      <th>Everlasting Gobstopper</th>\n",
       "      <td>8.00</td>\n",
       "      <td>8.00</td>\n",
       "      <td>8.00</td>\n",
       "      <td>8.00</td>\n",
       "    </tr>\n",
       "    <tr>\n",
       "      <th>Fizzy Lifting Drinks</th>\n",
       "      <td>2.25</td>\n",
       "      <td>2.25</td>\n",
       "      <td>2.25</td>\n",
       "      <td>2.25</td>\n",
       "    </tr>\n",
       "    <tr>\n",
       "      <th>Fun Dip</th>\n",
       "      <td>0.60</td>\n",
       "      <td>0.60</td>\n",
       "      <td>0.60</td>\n",
       "      <td>0.60</td>\n",
       "    </tr>\n",
       "    <tr>\n",
       "      <th>Hair Toffee</th>\n",
       "      <td>3.50</td>\n",
       "      <td>3.50</td>\n",
       "      <td>3.50</td>\n",
       "      <td>3.50</td>\n",
       "    </tr>\n",
       "    <tr>\n",
       "      <th>Kazookles</th>\n",
       "      <td>0.25</td>\n",
       "      <td>0.25</td>\n",
       "      <td>0.25</td>\n",
       "      <td>0.25</td>\n",
       "    </tr>\n",
       "    <tr>\n",
       "      <th>Laffy Taffy</th>\n",
       "      <td>1.24</td>\n",
       "      <td>1.24</td>\n",
       "      <td>1.24</td>\n",
       "      <td>1.24</td>\n",
       "    </tr>\n",
       "    <tr>\n",
       "      <th>Lickable Wallpaper</th>\n",
       "      <td>10.00</td>\n",
       "      <td>10.00</td>\n",
       "      <td>10.00</td>\n",
       "      <td>10.00</td>\n",
       "    </tr>\n",
       "    <tr>\n",
       "      <th>Nerds</th>\n",
       "      <td>0.70</td>\n",
       "      <td>0.70</td>\n",
       "      <td>0.70</td>\n",
       "      <td>0.70</td>\n",
       "    </tr>\n",
       "    <tr>\n",
       "      <th>SweeTARTS</th>\n",
       "      <td>0.70</td>\n",
       "      <td>0.70</td>\n",
       "      <td>0.70</td>\n",
       "      <td>0.70</td>\n",
       "    </tr>\n",
       "    <tr>\n",
       "      <th>Wonka Bar - Fudge Mallows</th>\n",
       "      <td>2.40</td>\n",
       "      <td>2.40</td>\n",
       "      <td>2.40</td>\n",
       "      <td>2.40</td>\n",
       "    </tr>\n",
       "    <tr>\n",
       "      <th>Wonka Bar - Milk Chocolate</th>\n",
       "      <td>2.11</td>\n",
       "      <td>2.11</td>\n",
       "      <td>2.11</td>\n",
       "      <td>2.11</td>\n",
       "    </tr>\n",
       "    <tr>\n",
       "      <th>Wonka Bar - Nutty Crunch Surprise</th>\n",
       "      <td>2.49</td>\n",
       "      <td>2.49</td>\n",
       "      <td>2.49</td>\n",
       "      <td>2.49</td>\n",
       "    </tr>\n",
       "    <tr>\n",
       "      <th>Wonka Bar - Triple Dazzle Caramel</th>\n",
       "      <td>2.45</td>\n",
       "      <td>2.45</td>\n",
       "      <td>2.45</td>\n",
       "      <td>2.45</td>\n",
       "    </tr>\n",
       "    <tr>\n",
       "      <th>Wonka Bar -Scrumdiddlyumptious</th>\n",
       "      <td>2.50</td>\n",
       "      <td>2.50</td>\n",
       "      <td>2.50</td>\n",
       "      <td>2.50</td>\n",
       "    </tr>\n",
       "    <tr>\n",
       "      <th>Wonka Gum</th>\n",
       "      <td>0.65</td>\n",
       "      <td>0.65</td>\n",
       "      <td>0.65</td>\n",
       "      <td>0.65</td>\n",
       "    </tr>\n",
       "  </tbody>\n",
       "</table>\n",
       "</div>"
      ],
      "text/plain": [
       "Ship-Mode                          First Class  Same Day  Second Class  \\\n",
       "Product-Name                                                             \n",
       "Everlasting Gobstopper                    8.00      8.00          8.00   \n",
       "Fizzy Lifting Drinks                      2.25      2.25          2.25   \n",
       "Fun Dip                                   0.60      0.60          0.60   \n",
       "Hair Toffee                               3.50      3.50          3.50   \n",
       "Kazookles                                 0.25      0.25          0.25   \n",
       "Laffy Taffy                               1.24      1.24          1.24   \n",
       "Lickable Wallpaper                       10.00     10.00         10.00   \n",
       "Nerds                                     0.70      0.70          0.70   \n",
       "SweeTARTS                                 0.70      0.70          0.70   \n",
       "Wonka Bar - Fudge Mallows                 2.40      2.40          2.40   \n",
       "Wonka Bar - Milk Chocolate                2.11      2.11          2.11   \n",
       "Wonka Bar - Nutty Crunch Surprise         2.49      2.49          2.49   \n",
       "Wonka Bar - Triple Dazzle Caramel         2.45      2.45          2.45   \n",
       "Wonka Bar -Scrumdiddlyumptious            2.50      2.50          2.50   \n",
       "Wonka Gum                                 0.65      0.65          0.65   \n",
       "\n",
       "Ship-Mode                          Standard Class  \n",
       "Product-Name                                       \n",
       "Everlasting Gobstopper                       8.00  \n",
       "Fizzy Lifting Drinks                         2.25  \n",
       "Fun Dip                                      0.60  \n",
       "Hair Toffee                                  3.50  \n",
       "Kazookles                                    0.25  \n",
       "Laffy Taffy                                  1.24  \n",
       "Lickable Wallpaper                          10.00  \n",
       "Nerds                                        0.70  \n",
       "SweeTARTS                                    0.70  \n",
       "Wonka Bar - Fudge Mallows                    2.40  \n",
       "Wonka Bar - Milk Chocolate                   2.11  \n",
       "Wonka Bar - Nutty Crunch Surprise            2.49  \n",
       "Wonka Bar - Triple Dazzle Caramel            2.45  \n",
       "Wonka Bar -Scrumdiddlyumptious               2.50  \n",
       "Wonka Gum                                    0.65  "
      ]
     },
     "execution_count": 15,
     "metadata": {},
     "output_type": "execute_result"
    }
   ],
   "source": [
    "tableau_croise_dynamique = data_.pivot_table(values='Profit', index='Product-Name', columns='Ship-Mode', ) #aggfunc='sum'\n",
    "(tableau_croise_dynamique)"
   ]
  },
  {
   "cell_type": "code",
   "execution_count": 12,
   "metadata": {},
   "outputs": [
    {
     "data": {
      "text/plain": [
       "<AxesSubplot: ylabel='Profit'>"
      ]
     },
     "execution_count": 12,
     "metadata": {},
     "output_type": "execute_result"
    },
    {
     "data": {
      "image/png": "[encoded data removed]",
      "text/plain": [
       "<Figure size 640x480 with 1 Axes>"
      ]
     },
     "metadata": {},
     "output_type": "display_data"
    }
   ],
   "source": [
    "snb.barplot(\n",
    "    data=wonka, \n",
    "    y='Profit',\n",
    "    hue='Ship-Mode',\n",
    "    width=0.8, \n",
    "    gap=0.1\n",
    ")"
   ]
  },
  {
   "cell_type": "code",
   "execution_count": 13,
   "metadata": {},
   "outputs": [
    {
     "name": "stdout",
     "output_type": "stream",
     "text": [
      "Âge    18-24  25-34    45+\n",
      "Sexe                      \n",
      "Femme  150.0  400.0  100.0\n",
      "Homme  450.0  300.0    NaN\n"
     ]
    }
   ],
   "source": [
    "# Ajouter une colonne Ventes au DataFrame\n",
    "data = {'Sexe': ['Homme', 'Femme', 'Homme', 'Femme', 'Homme', 'Femme'],\n",
    "        'Âge': ['18-24', '18-24', '25-34', '25-34', '18-24', '45+'],\n",
    "        'Ventes': [200, 150, 300, 400, 250, 100]}\n",
    "df = pd.DataFrame(data)\n",
    "\n",
    "# Création du tableau croisé dynamique\n",
    "tableau_croise_dynamique = df.pivot_table(values='Ventes', index='Sexe', columns='Âge', aggfunc='sum')\n",
    "print(tableau_croise_dynamique)\n"
   ]
  },
  {
   "cell_type": "code",
   "execution_count": null,
   "metadata": {},
   "outputs": [],
   "source": []
  }
 ],
 "metadata": {
  "kernelspec": {
   "display_name": "Python 3",
   "language": "python",
   "name": "python3"
  },
  "language_info": {
   "codemirror_mode": {
    "name": "ipython",
    "version": 3
   },
   "file_extension": ".py",
   "mimetype": "text/x-python",
   "name": "python",
   "nbconvert_exporter": "python",
   "pygments_lexer": "ipython3",
   "version": "3.11.9"
  }
 },
 "nbformat": 4,
 "nbformat_minor": 2
}
