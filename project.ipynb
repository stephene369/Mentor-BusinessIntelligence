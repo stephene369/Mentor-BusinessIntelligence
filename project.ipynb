{
 "cells": [
  {
   "cell_type": "code",
   "execution_count": 1,
   "metadata": {},
   "outputs": [],
   "source": [
    "import pandas as pd \n",
    "import numpy as np\n"
   ]
  },
  {
   "cell_type": "code",
   "execution_count": 2,
   "metadata": {},
   "outputs": [],
   "source": [
    "sales =pd.read_csv('/home/kali/Documents/projects/MentorBI/US+Candy+Distributor/Candy_Sales.csv')\n",
    "uszips = pd.read_csv('/home/kali/Documents/projects/MentorBI/US+Candy+Distributor/uszips.csv')"
   ]
  },
  {
   "cell_type": "code",
   "execution_count": 3,
   "metadata": {},
   "outputs": [],
   "source": [
    "sales['Postal Code'] = sales['Postal Code'].apply(lambda x : str(x))\n",
    "uszips['zip'] = uszips['zip'].apply(lambda x : str(x))\n"
   ]
  },
  {
   "cell_type": "code",
   "execution_count": 4,
   "metadata": {},
   "outputs": [],
   "source": [
    "\n",
    "sales_uszips = pd.merge(sales, uszips, how='left', left_on='Postal Code', right_on='zip')\n"
   ]
  },
  {
   "cell_type": "code",
   "execution_count": 5,
   "metadata": {},
   "outputs": [],
   "source": [
    "factory = pd.read_csv('US+Candy+Distributor/Candy_Factories.csv')\n",
    "product = pd.read_csv('US+Candy+Distributor/Candy_Products.csv')"
   ]
  },
  {
   "cell_type": "code",
   "execution_count": 6,
   "metadata": {},
   "outputs": [
    {
     "data": {
      "text/html": [
       "<div>\n",
       "<style scoped>\n",
       "    .dataframe tbody tr th:only-of-type {\n",
       "        vertical-align: middle;\n",
       "    }\n",
       "\n",
       "    .dataframe tbody tr th {\n",
       "        vertical-align: top;\n",
       "    }\n",
       "\n",
       "    .dataframe thead th {\n",
       "        text-align: right;\n",
       "    }\n",
       "</style>\n",
       "<table border=\"1\" class=\"dataframe\">\n",
       "  <thead>\n",
       "    <tr style=\"text-align: right;\">\n",
       "      <th></th>\n",
       "      <th>Factory</th>\n",
       "      <th>Latitude</th>\n",
       "      <th>Longitude</th>\n",
       "    </tr>\n",
       "  </thead>\n",
       "  <tbody>\n",
       "    <tr>\n",
       "      <th>0</th>\n",
       "      <td>Lot's O' Nuts</td>\n",
       "      <td>32.881893</td>\n",
       "      <td>-111.768036</td>\n",
       "    </tr>\n",
       "    <tr>\n",
       "      <th>1</th>\n",
       "      <td>Wicked Choccy's</td>\n",
       "      <td>32.076176</td>\n",
       "      <td>-81.088371</td>\n",
       "    </tr>\n",
       "    <tr>\n",
       "      <th>2</th>\n",
       "      <td>Sugar Shack</td>\n",
       "      <td>48.119140</td>\n",
       "      <td>-96.181150</td>\n",
       "    </tr>\n",
       "    <tr>\n",
       "      <th>3</th>\n",
       "      <td>Secret Factory</td>\n",
       "      <td>41.446333</td>\n",
       "      <td>-90.565487</td>\n",
       "    </tr>\n",
       "    <tr>\n",
       "      <th>4</th>\n",
       "      <td>The Other Factory</td>\n",
       "      <td>35.117500</td>\n",
       "      <td>-89.971107</td>\n",
       "    </tr>\n",
       "  </tbody>\n",
       "</table>\n",
       "</div>"
      ],
      "text/plain": [
       "             Factory   Latitude   Longitude\n",
       "0      Lot's O' Nuts  32.881893 -111.768036\n",
       "1    Wicked Choccy's  32.076176  -81.088371\n",
       "2        Sugar Shack  48.119140  -96.181150\n",
       "3     Secret Factory  41.446333  -90.565487\n",
       "4  The Other Factory  35.117500  -89.971107"
      ]
     },
     "execution_count": 6,
     "metadata": {},
     "output_type": "execute_result"
    }
   ],
   "source": [
    "factory.head()"
   ]
  },
  {
   "cell_type": "code",
   "execution_count": 7,
   "metadata": {},
   "outputs": [
    {
     "data": {
      "text/html": [
       "<div>\n",
       "<style scoped>\n",
       "    .dataframe tbody tr th:only-of-type {\n",
       "        vertical-align: middle;\n",
       "    }\n",
       "\n",
       "    .dataframe tbody tr th {\n",
       "        vertical-align: top;\n",
       "    }\n",
       "\n",
       "    .dataframe thead th {\n",
       "        text-align: right;\n",
       "    }\n",
       "</style>\n",
       "<table border=\"1\" class=\"dataframe\">\n",
       "  <thead>\n",
       "    <tr style=\"text-align: right;\">\n",
       "      <th></th>\n",
       "      <th>Division</th>\n",
       "      <th>Product Name</th>\n",
       "      <th>Factory</th>\n",
       "      <th>Product ID</th>\n",
       "      <th>Unit Price</th>\n",
       "      <th>Unit Cost</th>\n",
       "    </tr>\n",
       "  </thead>\n",
       "  <tbody>\n",
       "    <tr>\n",
       "      <th>0</th>\n",
       "      <td>Chocolate</td>\n",
       "      <td>Wonka Bar - Nutty Crunch Surprise</td>\n",
       "      <td>Lot's O' Nuts</td>\n",
       "      <td>CHO-NUT-13000</td>\n",
       "      <td>3.49</td>\n",
       "      <td>1.00</td>\n",
       "    </tr>\n",
       "    <tr>\n",
       "      <th>1</th>\n",
       "      <td>Chocolate</td>\n",
       "      <td>Wonka Bar - Fudge Mallows</td>\n",
       "      <td>Lot's O' Nuts</td>\n",
       "      <td>CHO-FUD-51000</td>\n",
       "      <td>3.60</td>\n",
       "      <td>1.20</td>\n",
       "    </tr>\n",
       "    <tr>\n",
       "      <th>2</th>\n",
       "      <td>Chocolate</td>\n",
       "      <td>Wonka Bar -Scrumdiddlyumptious</td>\n",
       "      <td>Lot's O' Nuts</td>\n",
       "      <td>CHO-SCR-58000</td>\n",
       "      <td>3.60</td>\n",
       "      <td>1.10</td>\n",
       "    </tr>\n",
       "    <tr>\n",
       "      <th>3</th>\n",
       "      <td>Chocolate</td>\n",
       "      <td>Wonka Bar - Milk Chocolate</td>\n",
       "      <td>Wicked Choccy's</td>\n",
       "      <td>CHO-MIL-31000</td>\n",
       "      <td>3.25</td>\n",
       "      <td>1.14</td>\n",
       "    </tr>\n",
       "    <tr>\n",
       "      <th>4</th>\n",
       "      <td>Chocolate</td>\n",
       "      <td>Wonka Bar - Triple Dazzle Caramel</td>\n",
       "      <td>Wicked Choccy's</td>\n",
       "      <td>CHO-TRI-54000</td>\n",
       "      <td>3.75</td>\n",
       "      <td>1.30</td>\n",
       "    </tr>\n",
       "  </tbody>\n",
       "</table>\n",
       "</div>"
      ],
      "text/plain": [
       "    Division                       Product Name          Factory  \\\n",
       "0  Chocolate  Wonka Bar - Nutty Crunch Surprise    Lot's O' Nuts   \n",
       "1  Chocolate          Wonka Bar - Fudge Mallows    Lot's O' Nuts   \n",
       "2  Chocolate     Wonka Bar -Scrumdiddlyumptious    Lot's O' Nuts   \n",
       "3  Chocolate         Wonka Bar - Milk Chocolate  Wicked Choccy's   \n",
       "4  Chocolate  Wonka Bar - Triple Dazzle Caramel  Wicked Choccy's   \n",
       "\n",
       "      Product ID  Unit Price  Unit Cost  \n",
       "0  CHO-NUT-13000        3.49       1.00  \n",
       "1  CHO-FUD-51000        3.60       1.20  \n",
       "2  CHO-SCR-58000        3.60       1.10  \n",
       "3  CHO-MIL-31000        3.25       1.14  \n",
       "4  CHO-TRI-54000        3.75       1.30  "
      ]
     },
     "execution_count": 7,
     "metadata": {},
     "output_type": "execute_result"
    }
   ],
   "source": [
    "product.head()"
   ]
  },
  {
   "cell_type": "code",
   "execution_count": 8,
   "metadata": {},
   "outputs": [],
   "source": [
    "\n",
    "from math import radians, sin, cos, sqrt, atan2\n",
    "\n",
    "def calculate_distance(lat1, lon1, lat2, lon2):\n",
    "    # Convert latitude and longitude to radians\n",
    "    lat1, lon1, lat2, lon2 = map(radians, [lat1, lon1, lat2, lon2])\n",
    "    \n",
    "    # Haversine formula\n",
    "    dlat = lat2 - lat1\n",
    "    dlon = lon2 - lon1\n",
    "    \n",
    "    a = sin(dlat/2)**2 + cos(lat1) * cos(lat2) * sin(dlon/2)**2\n",
    "    c = 2 * atan2(sqrt(a), sqrt(1-a))\n",
    "    \n",
    "    # Radius of Earth in kilometers\n",
    "    R = 6371\n",
    "    \n",
    "    # Calculate distance\n",
    "    distance = R * c\n",
    "    \n",
    "    return distance\n"
   ]
  },
  {
   "cell_type": "code",
   "execution_count": 9,
   "metadata": {},
   "outputs": [],
   "source": [
    "sales_uszips['Factory'] = ''\n",
    "sales_uszips['Factory_lng'] = 0.0\n",
    "sales_uszips['Factory_lat'] = 0.0\n",
    "\n",
    "sales_uszips['isFactory'] = False"
   ]
  },
  {
   "cell_type": "code",
   "execution_count": 10,
   "metadata": {},
   "outputs": [],
   "source": [
    "for i in range (len(sales_uszips) ) :\n",
    "    product_name = sales_uszips.loc[i]['Product Name']\n",
    "\n",
    "    factory_name = product[product['Product Name'] == product_name]['Factory'].values[0] \n",
    "    sales_uszips.loc[ i, 'Factory'] = factory_name \n",
    "\n",
    "    longitute = factory[ factory['Factory'] == factory_name ]['Longitude'].values[0] \n",
    "    latitude = factory[ factory['Factory'] == factory_name ]['Latitude'].values[0] \n",
    "\n",
    "    sales_uszips.loc[ i , 'Factory_lng' ] = longitute\n",
    "    sales_uszips.loc[ i ,  'Factory_lat' ] = latitude\n",
    "\n"
   ]
  },
  {
   "cell_type": "code",
   "execution_count": 11,
   "metadata": {},
   "outputs": [],
   "source": [
    "def haversine_distance(lat1, lon1, lat2, lon2):\n",
    "    R = 6371  # Earth's radius in kilometers\n",
    "    \n",
    "    lat1, lon1, lat2, lon2 = map(np.radians, [lat1, lon1, lat2, lon2])\n",
    "    \n",
    "    dlat = lat2 - lat1\n",
    "    dlon = lon2 - lon1\n",
    "    \n",
    "    a = np.sin(dlat/2)**2 + np.cos(lat1) * np.cos(lat2) * np.sin(dlon/2)**2\n",
    "    c = 2 * np.arcsin(np.sqrt(a))\n",
    "    distance = R * c\n",
    "    \n",
    "    return distance\n",
    "\n",
    "sales_uszips['distance'] = haversine_distance(\n",
    "    sales_uszips['lat'], \n",
    "    sales_uszips['lng'],\n",
    "    sales_uszips['Factory_lat'], \n",
    "    sales_uszips['Factory_lng']\n",
    ")"
   ]
  },
  {
   "cell_type": "code",
   "execution_count": 12,
   "metadata": {},
   "outputs": [
    {
     "data": {
      "text/html": [
       "<div>\n",
       "<style scoped>\n",
       "    .dataframe tbody tr th:only-of-type {\n",
       "        vertical-align: middle;\n",
       "    }\n",
       "\n",
       "    .dataframe tbody tr th {\n",
       "        vertical-align: top;\n",
       "    }\n",
       "\n",
       "    .dataframe thead th {\n",
       "        text-align: right;\n",
       "    }\n",
       "</style>\n",
       "<table border=\"1\" class=\"dataframe\">\n",
       "  <thead>\n",
       "    <tr style=\"text-align: right;\">\n",
       "      <th></th>\n",
       "      <th>Factory</th>\n",
       "      <th>Latitude</th>\n",
       "      <th>Longitude</th>\n",
       "    </tr>\n",
       "  </thead>\n",
       "  <tbody>\n",
       "    <tr>\n",
       "      <th>0</th>\n",
       "      <td>Lot's O' Nuts</td>\n",
       "      <td>32.881893</td>\n",
       "      <td>-111.768036</td>\n",
       "    </tr>\n",
       "    <tr>\n",
       "      <th>1</th>\n",
       "      <td>Wicked Choccy's</td>\n",
       "      <td>32.076176</td>\n",
       "      <td>-81.088371</td>\n",
       "    </tr>\n",
       "    <tr>\n",
       "      <th>2</th>\n",
       "      <td>Sugar Shack</td>\n",
       "      <td>48.119140</td>\n",
       "      <td>-96.181150</td>\n",
       "    </tr>\n",
       "    <tr>\n",
       "      <th>3</th>\n",
       "      <td>Secret Factory</td>\n",
       "      <td>41.446333</td>\n",
       "      <td>-90.565487</td>\n",
       "    </tr>\n",
       "    <tr>\n",
       "      <th>4</th>\n",
       "      <td>The Other Factory</td>\n",
       "      <td>35.117500</td>\n",
       "      <td>-89.971107</td>\n",
       "    </tr>\n",
       "  </tbody>\n",
       "</table>\n",
       "</div>"
      ],
      "text/plain": [
       "             Factory   Latitude   Longitude\n",
       "0      Lot's O' Nuts  32.881893 -111.768036\n",
       "1    Wicked Choccy's  32.076176  -81.088371\n",
       "2        Sugar Shack  48.119140  -96.181150\n",
       "3     Secret Factory  41.446333  -90.565487\n",
       "4  The Other Factory  35.117500  -89.971107"
      ]
     },
     "execution_count": 12,
     "metadata": {},
     "output_type": "execute_result"
    }
   ],
   "source": [
    "factory"
   ]
  },
  {
   "cell_type": "code",
   "execution_count": 14,
   "metadata": {},
   "outputs": [
    {
     "data": {
      "text/html": [
       "<div>\n",
       "<style scoped>\n",
       "    .dataframe tbody tr th:only-of-type {\n",
       "        vertical-align: middle;\n",
       "    }\n",
       "\n",
       "    .dataframe tbody tr th {\n",
       "        vertical-align: top;\n",
       "    }\n",
       "\n",
       "    .dataframe thead th {\n",
       "        text-align: right;\n",
       "    }\n",
       "</style>\n",
       "<table border=\"1\" class=\"dataframe\">\n",
       "  <thead>\n",
       "    <tr style=\"text-align: right;\">\n",
       "      <th></th>\n",
       "      <th>Factory</th>\n",
       "      <th>Latitude</th>\n",
       "      <th>Longitude</th>\n",
       "    </tr>\n",
       "  </thead>\n",
       "  <tbody>\n",
       "    <tr>\n",
       "      <th>0</th>\n",
       "      <td>Lot's O' Nuts</td>\n",
       "      <td>32.881893</td>\n",
       "      <td>-111.768036</td>\n",
       "    </tr>\n",
       "    <tr>\n",
       "      <th>1</th>\n",
       "      <td>Wicked Choccy's</td>\n",
       "      <td>32.076176</td>\n",
       "      <td>-81.088371</td>\n",
       "    </tr>\n",
       "    <tr>\n",
       "      <th>2</th>\n",
       "      <td>Sugar Shack</td>\n",
       "      <td>48.119140</td>\n",
       "      <td>-96.181150</td>\n",
       "    </tr>\n",
       "    <tr>\n",
       "      <th>3</th>\n",
       "      <td>Secret Factory</td>\n",
       "      <td>41.446333</td>\n",
       "      <td>-90.565487</td>\n",
       "    </tr>\n",
       "    <tr>\n",
       "      <th>4</th>\n",
       "      <td>The Other Factory</td>\n",
       "      <td>35.117500</td>\n",
       "      <td>-89.971107</td>\n",
       "    </tr>\n",
       "  </tbody>\n",
       "</table>\n",
       "</div>"
      ],
      "text/plain": [
       "             Factory   Latitude   Longitude\n",
       "0      Lot's O' Nuts  32.881893 -111.768036\n",
       "1    Wicked Choccy's  32.076176  -81.088371\n",
       "2        Sugar Shack  48.119140  -96.181150\n",
       "3     Secret Factory  41.446333  -90.565487\n",
       "4  The Other Factory  35.117500  -89.971107"
      ]
     },
     "execution_count": 14,
     "metadata": {},
     "output_type": "execute_result"
    }
   ],
   "source": [
    "factory"
   ]
  },
  {
   "cell_type": "code",
   "execution_count": 15,
   "metadata": {},
   "outputs": [],
   "source": [
    "factory_location = {\n",
    "    'Factory':factory['Factory'].to_list() , \n",
    "    'lat': factory['Latitude'].to_list() , \n",
    "    'lng': factory['Longitude'].to_list() , \n",
    "    'isFactory':[True , True , True, True, True]\n",
    "}"
   ]
  },
  {
   "cell_type": "code",
   "execution_count": 16,
   "metadata": {},
   "outputs": [],
   "source": [
    "sales_uszips = pd.concat([sales_uszips , pd.DataFrame(factory_location) ], ignore_index = True)"
   ]
  },
  {
   "cell_type": "code",
   "execution_count": 18,
   "metadata": {},
   "outputs": [],
   "source": [
    "sales_uszips.to_csv('sales_uszips.csv')"
   ]
  },
  {
   "cell_type": "code",
   "execution_count": 20,
   "metadata": {},
   "outputs": [
    {
     "data": {
      "text/plain": [
       "10199"
      ]
     },
     "execution_count": 20,
     "metadata": {},
     "output_type": "execute_result"
    }
   ],
   "source": [
    "len(sales_uszips)\n"
   ]
  },
  {
   "cell_type": "code",
   "execution_count": 25,
   "metadata": {},
   "outputs": [],
   "source": [
    "df0 = sales_uszips [sales_uszips[\"Ship Mode\"]  == \"First Class\"  ]\n",
    " "
   ]
  },
  {
   "cell_type": "code",
   "execution_count": null,
   "metadata": {},
   "outputs": [],
   "source": []
  }
 ],
 "metadata": {
  "kernelspec": {
   "display_name": "Python 3",
   "language": "python",
   "name": "python3"
  },
  "language_info": {
   "codemirror_mode": {
    "name": "ipython",
    "version": 3
   },
   "file_extension": ".py",
   "mimetype": "text/x-python",
   "name": "python",
   "nbconvert_exporter": "python",
   "pygments_lexer": "ipython3",
   "version": "3.11.9"
  }
 },
 "nbformat": 4,
 "nbformat_minor": 2
}
