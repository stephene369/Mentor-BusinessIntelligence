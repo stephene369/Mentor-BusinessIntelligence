{
 "cells": [
  {
   "cell_type": "code",
   "execution_count": null,
   "metadata": {},
   "outputs": [
    {
     "data": {
      "text/plain": [
       "Ma page HTML\n"
      ]
     },
     "metadata": {},
     "output_type": "display_data"
    }
   ],
   "source": [
    "import requests\n",
    "from bs4 import BeautifulSoup\n",
    "import json\n",
    "url = \"https://stephene369.github.io/exemple/\"\n",
    "response = requests.get(url)\n",
    "if response.status_code == 200:\n",
    "    soup = BeautifulSoup(response.text, 'html.parser')\n",
    "    title_elements = soup.find_all(class_='title')\n",
    "    for element in title_elements:\n",
    "        print(element.text.strip())\n",
    "else:\n",
    "    print(f\"Failed to retrieve the webpage. Status code: {response.status_code}\")\n",
    "\n"
   ]
  },
  {
   "cell_type": "code",
   "execution_count": null,
   "metadata": {},
   "outputs": [],
   "source": [
    "url_ = \"https://www.jebosseengrandedistribution.fr/2020/04/14/voici-la-liste-des-rayons-quon-trouve-en-grande-distribution/?srsltid=AfmBOooak7kkzniP0a2veGYmU5VTJTseh3MR_lb8eC8HllV50yvuwmuJ\"\n",
    "res = requests.get(url_)\n",
    "sp = BeautifulSoup(res.text, \"html.parser\")\n",
    "div = sp.find('div', class_='post-content')\n",
    "### getting all the children\n",
    "\n",
    "children = div.find_all()\n",
    "data = { }\n",
    "for i , child in enumerate(children) : \n",
    "    if child.name in 'h3' : \n",
    "        if children[i+1].name == 'ul' : \n",
    "            data[child.text] = []\n",
    "            for produit in children[i+1].find_all('li') : \n",
    "                # print(produit.text)\n",
    "                data[child.text].append( produit.text )\n",
    "\n",
    "with open('data.json', 'w', encoding='utf-8') as file:\n",
    "    json.dump(data, file, ensure_ascii=False, indent=4)\n",
    "\n"
   ]
  },
  {
   "cell_type": "code",
   "execution_count": null,
   "metadata": {},
   "outputs": [
    {
     "data": {
      "text/plain": [
       "All data in the database:\n",
       "(1, 'John', 'Doe', 30)\n",
       "(2, 'Jane', 'Smith', 25)\n",
       "(3, 'Mike', 'Johnson', 35)\n",
       "\n",
       "People older than 30:\n",
       "(3, 'Mike', 'Johnson', 35)\n",
       "\n",
       "People with last name 'Smith':\n",
       "(2, 'Jane', 'Smith', 25)\n"
      ]
     },
     "metadata": {},
     "output_type": "display_data"
    }
   ],
   "source": [
    "import sqlite3\n",
    "# Create a connection to the SQLite database\n",
    "\n",
    "conn = sqlite3.connect('example.db')\n",
    "cursor = conn.cursor()\n",
    "# Create a table to store the data\n",
    "\n",
    "cursor.execute('''\n",
    "    CREATE TABLE IF NOT EXISTS persons (\n",
    "        id INTEGER PRIMARY KEY AUTOINCREMENT,\n",
    "        first_name TEXT,\n",
    "        last_name TEXT,\n",
    "        age INTEGER\n",
    "    )\n",
    "''')\n",
    "# Insert some sample data\n",
    "\n",
    "sample_data = [\n",
    "    ('John', 'Doe', 30),\n",
    "    ('Jane', 'Smith', 25),\n",
    "    ('Mike', 'Johnson', 35)\n",
    "]\n",
    "\n",
    "cursor.executemany('INSERT INTO persons (first_name, last_name, age) VALUES (?, ?, ?)', sample_data)\n",
    "# Commit the changes and close the connection\n",
    "\n",
    "conn.commit()\n",
    "conn.close()\n",
    "# Reopen the connection to fetch and display data\n",
    "conn = sqlite3.connect('example.db')\n",
    "cursor = conn.cursor()\n",
    "\n",
    "# Create (Insert) operation\n",
    "print(\"Inserting a new person:\")\n",
    "cursor.execute(\"INSERT INTO persons (first_name, last_name, age) VALUES (?, ?, ?)\", ('Alice', 'Johnson', 28))\n",
    "conn.commit()\n",
    "print(\"New person inserted.\")\n",
    "\n",
    "\n",
    "\n",
    "# Read operation\n",
    "print(\"\\nAll data in the database:\")\n",
    "cursor.execute('SELECT * FROM persons')\n",
    "for row in cursor.fetchall():\n",
    "    print(row)\n",
    "\n",
    "\n",
    "\n",
    "\n",
    "# Update operation\n",
    "print(\"\\nUpdating Alice's age:\")\n",
    "cursor.execute(\"UPDATE persons SET age = ? WHERE first_name = ? AND last_name = ?\", (29, 'Alice', 'Johnson'))\n",
    "conn.commit()\n",
    "print(\"Alice's age updated.\")\n",
    "\n",
    "\n",
    "\n",
    "\n",
    "# Read operation to verify update\n",
    "print(\"\\nVerifying update:\")\n",
    "cursor.execute(\"SELECT * FROM persons WHERE first_name = 'Alice'\")\n",
    "print(cursor.fetchone())\n",
    "\n",
    "\n",
    "\n",
    "\n",
    "# Delete operation\n",
    "print(\"\\nDeleting Mike Johnson:\")\n",
    "cursor.execute(\"DELETE FROM persons WHERE first_name = ? AND last_name = ?\", ('Mike', 'Johnson'))\n",
    "conn.commit()\n",
    "print(\"Mike Johnson deleted.\")\n",
    "\n",
    "\n",
    "\n",
    "\n",
    "\n",
    "# Read operation to verify deletion\n",
    "print(\"\\nAll data after deletion:\")\n",
    "cursor.execute('SELECT * FROM persons')\n",
    "for row in cursor.fetchall():\n",
    "    print(row)\n",
    "\n",
    "\n",
    "\n",
    "\n",
    "# Close the connection\n",
    "conn.close()\n",
    "\n",
    "conn.close()\n",
    "\n",
    "\n"
   ]
  },
  {
   "cell_type": "code",
   "execution_count": null,
   "metadata": {},
   "outputs": [],
   "source": [
    "\n",
    "\n",
    "import pandas as pd\n",
    "import sqlite3\n",
    "\n",
    "# Establish a connection to the database\n",
    "conn = sqlite3.connect('your_database.db')  # Replace 'your_database.db' with your actual database file name\n",
    "\n",
    "# Read the entire 'persons' table into a pandas DataFrame\n",
    "df = pd.read_sql_query(\"SELECT * FROM persons\", conn)\n",
    "\n",
    "# Close the connection\n",
    "conn.close()\n",
    "\n",
    "# Display the first few rows of the DataFrame\n",
    "print(df.head())\n",
    "\n",
    "# You can now work with the DataFrame 'df' which contains all the data from the 'persons' table\n"
   ]
  },
  {
   "cell_type": "code",
   "execution_count": null,
   "metadata": {},
   "outputs": [],
   "source": [
    "import sqlite3\n",
    "# Create a connection to the SQLite database\n",
    "\n",
    "conn = sqlite3.connect('grande_distribution.db')\n",
    "cursor = conn.cursor()\n",
    "# Create a table to store the data\n",
    "\n",
    "cursor.execute('''\n",
    "    CREATE TABLE IF NOT EXISTS rayons (\n",
    "        id INTEGER PRIMARY KEY AUTOINCREMENT,\n",
    "        rayon TEXT,\n",
    "        produits TEXT\n",
    "    )\n",
    "''')\n",
    "\n",
    "for rayon, produits in data.items():\n",
    "    cursor.execute('''\n",
    "        INSERT INTO rayons (rayon, produits)\n",
    "        VALUES (?, ?)\n",
    "    ''', (rayon, json.dumps(produits)))\n",
    "\n",
    "conn.commit()\n",
    "conn.close()\n"
   ]
  },
  {
   "cell_type": "code",
   "execution_count": null,
   "metadata": {},
   "outputs": [
    {
     "data": {
      "text/plain": [
       "{'code': '3017624010701', 'product': {'_id': '3017624010701', '_keywords': ['and', 'breakfast', 'chocolate', 'cocoa', 'ferrero', 'gluten', 'hazelnut', 'no', 'nutella', 'pate', 'spread', 'sweet', 'tartiner'], 'added_countries_tags': [], 'additives_n': 0, 'additives_old_n': 0, 'additives_old_tags': [], 'additives_original_tags': [], 'additives_tags': [], 'allergens': 'en:nuts', 'allergens_from_ingredients': 'en:nuts, hazelnuts', 'allergens_from_user': '(fr) en:nuts', 'allergens_hierarchy': ['en:nuts'], 'allergens_lc': 'fr', 'allergens_tags': ['en:nuts'], 'amino_acids_tags': [], 'brands': 'Nutella Ferrero', 'brands_tags': ['nutella-ferrero'], 'categories': 'Breakfasts, Spreads, Sweet spreads, fr:Pâtes à tartiner, Hazelnut spreads, Chocolate spreads, Cocoa and hazelnuts spreads', 'categories_hierarchy': ['en:breakfasts', 'en:spreads', 'en:sweet-spreads', 'fr:pates-a-tartiner', 'en:hazelnut-spreads', 'en:chocolate-spreads', 'en:cocoa-and-hazelnuts-spreads'], 'categories_lc': 'en', 'categories_old': 'Breakfasts, Spreads, Sweet spreads, fr:Pâtes à tartiner, Hazelnut spreads, Chocolate spreads, Cocoa and hazelnuts spreads', 'categories_properties': {'agribalyse_food_code:en': '31032', 'agribalyse_proxy_food_code:en': '31032', 'ciqual_food_code:en': '31032'}, 'categories_properties_tags': ['all-products', 'categories-known', 'agribalyse-food-code-31032', 'agribalyse-food-code-known', 'agribalyse-proxy-food-code-31032', 'agribalyse-proxy-food-code-known', 'ciqual-food-code-31032', 'ciqual-food-code-known', 'agribalyse-known', 'agribalyse-31032'], 'categories_tags': ['en:breakfasts', 'en:spreads', 'en:sweet-spreads', 'fr:pates-a-tartiner', 'en:hazelnut-spreads', 'en:chocolate-spreads', 'en:cocoa-and-hazelnuts-spreads'], 'checkers_tags': [], 'cities_tags': [], 'code': '3017624010701', 'codes_tags': ['code-13', '3017624010xxx', '301762401xxxx', '30176240xxxxx', '3017624xxxxxx', '301762xxxxxxx', '30176xxxxxxxx', '3017xxxxxxxxx', '301xxxxxxxxxx', '30xxxxxxxxxxx', '3xxxxxxxxxxxx'], 'compared_to_category': 'en:cocoa-and-hazelnuts-spreads', 'complete': 0, 'completeness': 0.7, 'correctors_tags': ['manu1400', 'teolemon', 'scanbot', 'nicolasleger', 'segundo', 'inf', 'openfoodfacts-contributors', 'vaporous', 'tacite', 'simsha55', 'vegan-app-chakib', 'kiliweb', 'klaxon8791', 'packbot', 'gmlaa'], 'countries': 'France,Royaume-Uni', 'countries_beforescanbot': 'en:United Kingdom', 'countries_hierarchy': ['en:france', 'en:united-kingdom'], 'countries_lc': 'fr', 'countries_tags': ['en:france', 'en:united-kingdom'], 'created_t': 1602617601, 'creator': 'openfoodfacts-contributors', 'data_quality_bugs_tags': [], 'data_quality_errors_tags': [], 'data_quality_info_tags': ['en:packaging-data-incomplete', 'en:ingredients-percent-analysis-ok', 'en:ecoscore-extended-data-not-computed', 'en:food-groups-1-known', 'en:food-groups-2-known', 'en:food-groups-3-unknown'], 'data_quality_tags': ['en:packaging-data-incomplete', 'en:ingredients-percent-analysis-ok', 'en:ecoscore-extended-data-not-computed', 'en:food-groups-1-known', 'en:food-groups-2-known', 'en:food-groups-3-unknown', 'en:ecoscore-origins-of-ingredients-origins-are-100-percent-unknown', 'en:ecoscore-packaging-unscored-shape', 'en:ecoscore-production-system-no-label'], 'data_quality_warnings_tags': ['en:ecoscore-origins-of-ingredients-origins-are-100-percent-unknown', 'en:ecoscore-packaging-unscored-shape', 'en:ecoscore-production-system-no-label'], 'data_sources': 'App - yuka, Apps, App - Horizon, App - InFood, App - Open Food Facts', 'data_sources_tags': ['app-yuka', 'apps', 'app-horizon', 'app-infood', 'app-open-food-facts'], 'debug_param_sorted_langs': ['en'], 'ecoscore_data': {'adjustments': {'origins_of_ingredients': {'aggregated_origins': [{'epi_score': 0, 'origin': 'en:unknown', 'percent': 100, 'transportation_score': None}], 'epi_score': 0, 'epi_value': -5, 'origins_from_categories': ['en:unknown'], 'origins_from_origins_field': ['en:unknown'], 'transportation_score': 0, 'transportation_scores': {'ad': 0, 'al': 0, 'at': 0, 'ax': 0, 'ba': 0, 'be': 0, 'bg': 0, 'ch': 0, 'cy': 0, 'cz': 0, 'de': 0, 'dk': 0, 'dz': 0, 'ee': 0, 'eg': 0, 'es': 0, 'fi': 0, 'fo': 0, 'fr': 0, 'gg': 0, 'gi': 0, 'gr': 0, 'hr': 0, 'hu': 0, 'ie': 0, 'il': 0, 'im': 0, 'is': 0, 'it': 0, 'je': 0, 'lb': 0, 'li': 0, 'lt': 0, 'lu': 0, 'lv': 0, 'ly': 0, 'ma': 0, 'mc': 0, 'md': 0, 'me': 0, 'mk': 0, 'mt': 0, 'nl': 0, 'no': 0, 'pl': 0, 'ps': 0, 'pt': 0, 'ro': 0, 'rs': 0, 'se': 0, 'si': 0, 'sj': 0, 'sk': 0, 'sm': 0, 'sy': 0, 'tn': 0, 'tr': 0, 'ua': 0, 'uk': 0, 'us': 0, 'va': 0, 'world': 0, 'xk': 0}, 'transportation_value': 0, 'transportation_values': {'ad': 0, 'al': 0, 'at': 0, 'ax': 0, 'ba': 0, 'be': 0, 'bg': 0, 'ch': 0, 'cy': 0, 'cz': 0, 'de': 0, 'dk': 0, 'dz': 0, 'ee': 0, 'eg': 0, 'es': 0, 'fi': 0, 'fo': 0, 'fr': 0, 'gg': 0, 'gi': 0, 'gr': 0, 'hr': 0, 'hu': 0, 'ie': 0, 'il': 0, 'im': 0, 'is': 0, 'it': 0, 'je': 0, 'lb': 0, 'li': 0, 'lt': 0, 'lu': 0, 'lv': 0, 'ly': 0, 'ma': 0, 'mc': 0, 'md': 0, 'me': 0, 'mk': 0, 'mt': 0, 'nl': 0, 'no': 0, 'pl': 0, 'ps': 0, 'pt': 0, 'ro': 0, 'rs': 0, 'se': 0, 'si': 0, 'sj': 0, 'sk': 0, 'sm': 0, 'sy': 0, 'tn': 0, 'tr': 0, 'ua': 0, 'uk': 0, 'us': 0, 'va': 0, 'world': 0, 'xk': 0}, 'value': -5, 'values': {'ad': -5, 'al': -5, 'at': -5, 'ax': -5, 'ba': -5, 'be': -5, 'bg': -5, 'ch': -5, 'cy': -5, 'cz': -5, 'de': -5, 'dk': -5, 'dz': -5, 'ee': -5, 'eg': -5, 'es': -5, 'fi': -5, 'fo': -5, 'fr': -5, 'gg': -5, 'gi': -5, 'gr': -5, 'hr': -5, 'hu': -5, 'ie': -5, 'il': -5, 'im': -5, 'is': -5, 'it': -5, 'je': -5, 'lb': -5, 'li': -5, 'lt': -5, 'lu': -5, 'lv': -5, 'ly': -5, 'ma': -5, 'mc': -5, 'md': -5, 'me': -5, 'mk': -5, 'mt': -5, 'nl': -5, 'no': -5, 'pl': -5, 'ps': -5, 'pt': -5, 'ro': -5, 'rs': -5, 'se': -5, 'si': -5, 'sj': -5, 'sk': -5, 'sm': -5, 'sy': -5, 'tn': -5, 'tr': -5, 'ua': -5, 'uk': -5, 'us': -5, 'va': -5, 'world': -5, 'xk': -5}, 'warning': 'origins_are_100_percent_unknown'}, 'packaging': {'non_recyclable_and_non_biodegradable_materials': 0, 'packagings': [{'ecoscore_material_score': 81, 'ecoscore_shape_ratio': 1, 'material': 'en:glass', 'shape': 'en:jar'}], 'score': 81, 'value': -2, 'warning': 'unscored_shape'}, 'production_system': {'labels': [], 'value': 0, 'warning': 'no_label'}, 'threatened_species': {'ingredient': 'en:palm-oil', 'value': -10}}, 'agribalyse': {'agribalyse_food_code': '31032', 'agribalyse_proxy_food_code': '31032', 'co2_agriculture': 2.7444684, 'co2_consumption': 0, 'co2_distribution': 0.017321188, 'co2_packaging': 0.17097517, 'co2_processing': 4.5534882, 'co2_total': 7.666309138, 'co2_transportation': 0.18005618, 'code': '31032', 'dqr': '2.54', 'ef_agriculture': 0.26394245, 'ef_consumption': 0, 'ef_distribution': 0.0046415086, 'ef_packaging': 0.018685146, 'ef_processing': 0.24201201, 'ef_total': 0.5452432926, 'ef_transportation': 0.015962178, 'is_beverage': 0, 'name_en': 'Chocolate spread with hazelnuts', 'name_fr': 'Pâte à tartiner chocolat et noisette', 'score': 50, 'version': '3.1'}, 'grade': 'd', 'grades': {'ad': 'd', 'al': 'd', 'at': 'd', 'ax': 'd', 'ba': 'd', 'be': 'd', 'bg': 'd', 'ch': 'd', 'cy': 'd', 'cz': 'd', 'de': 'd', 'dk': 'd', 'dz': 'd', 'ee': 'd', 'eg': 'd', 'es': 'd', 'fi': 'd', 'fo': 'd', 'fr': 'd', 'gg': 'd', 'gi': 'd', 'gr': 'd', 'hr': 'd', 'hu': 'd', 'ie': 'd', 'il': 'd', 'im': 'd', 'is': 'd', 'it': 'd', 'je': 'd', 'lb': 'd', 'li': 'd', 'lt': 'd', 'lu': 'd', 'lv': 'd', 'ly': 'd', 'ma': 'd', 'mc': 'd', 'md': 'd', 'me': 'd', 'mk': 'd', 'mt': 'd', 'nl': 'd', 'no': 'd', 'pl': 'd', 'ps': 'd', 'pt': 'd', 'ro': 'd', 'rs': 'd', 'se': 'd', 'si': 'd', 'sj': 'd', 'sk': 'd', 'sm': 'd', 'sy': 'd', 'tn': 'd', 'tr': 'd', 'ua': 'd', 'uk': 'd', 'us': 'd', 'va': 'd', 'world': 'd', 'xk': 'd'}, 'missing': {'labels': 1, 'origins': 1, 'packagings': 1}, 'missing_data_warning': 1, 'previous_data': {'agribalyse': {'agribalyse_food_code': '31032', 'agribalyse_proxy_food_code': '31032', 'co2_agriculture': 8.7770996, 'co2_consumption': 0, 'co2_distribution': 0.014104999, 'co2_packaging': 0.18864842, 'co2_processing': 0.69167973, 'co2_total': 9.8742343, 'co2_transportation': 0.19708507, 'code': '31032', 'dqr': '2.54', 'ef_agriculture': 0.61477708, 'ef_consumption': 0, 'ef_distribution': 0.0045906531, 'ef_packaging': 0.020453714, 'ef_processing': 0.085674643, 'ef_total': 0.74366703, 'ef_transportation': 0.017824104, 'is_beverage': 0, 'name_en': 'Chocolate spread with hazelnuts', 'name_fr': 'Pâte à tartiner chocolat et noisette', 'score': 40}, 'grade': 'd', 'score': 23}, 'score': 33, 'scores': {'ad': 33, 'al': 33, 'at': 33, 'ax': 33, 'ba': 33, 'be': 33, 'bg': 33, 'ch': 33, 'cy': 33, 'cz': 33, 'de': 33, 'dk': 33, 'dz': 33, 'ee': 33, 'eg': 33, 'es': 33, 'fi': 33, 'fo': 33, 'fr': 33, 'gg': 33, 'gi': 33, 'gr': 33, 'hr': 33, 'hu': 33, 'ie': 33, 'il': 33, 'im': 33, 'is': 33, 'it': 33, 'je': 33, 'lb': 33, 'li': 33, 'lt': 33, 'lu': 33, 'lv': 33, 'ly': 33, 'ma': 33, 'mc': 33, 'md': 33, 'me': 33, 'mk': 33, 'mt': 33, 'nl': 33, 'no': 33, 'pl': 33, 'ps': 33, 'pt': 33, 'ro': 33, 'rs': 33, 'se': 33, 'si': 33, 'sj': 33, 'sk': 33, 'sm': 33, 'sy': 33, 'tn': 33, 'tr': 33, 'ua': 33, 'uk': 33, 'us': 33, 'va': 33, 'world': 33, 'xk': 33}, 'status': 'known'}, 'ecoscore_grade': 'd', 'ecoscore_score': 33, 'ecoscore_tags': ['d'], 'editors_tags': ['foodless', 'gmlaa', 'halal-app-chakib', 'howmany-app', 'inf', 'kiliweb', 'klaxon8791', 'ldeveaux', 'luxsweden', 'manu1400', 'nicolasleger', 'openfoodfacts-contributors', 'packbot', 'scanbot', 'segundo', 'simsha55', 'swipe-studio', 'tacite', 'teolemon', 'vaporous', 'vegan-app-chakib', 'yuka.sY2b0xO6T85zoF3NwEKvlkUYSvrf_GP4KTrkgWGIx_ueHpXYWo9Xvaf4Kas'], 'emb_codes': '', 'emb_codes_tags': [], 'entry_dates_tags': ['2020-10-13', '2020-10', '2020'], 'expiration_date': '', 'food_groups': 'en:sweets', 'food_groups_tags': ['en:sugary-snacks', 'en:sweets'], 'generic_name': '', 'generic_name_en': '', 'id': '3017624010701', 'image_front_small_url': 'https://images.openfoodfacts.net/images/products/301/762/401/0701/front_en.54.200.jpg', 'image_front_thumb_url': 'https://images.openfoodfacts.net/images/products/301/762/401/0701/front_en.54.100.jpg', 'image_front_url': 'https://images.openfoodfacts.net/images/products/301/762/401/0701/front_en.54.400.jpg', 'image_ingredients_small_url': 'https://images.openfoodfacts.net/images/products/301/762/401/0701/ingredients_en.60.200.jpg', 'image_ingredients_thumb_url': 'https://images.openfoodfacts.net/images/products/301/762/401/0701/ingredients_en.60.100.jpg', 'image_ingredients_url': 'https://images.openfoodfacts.net/images/products/301/762/401/0701/ingredients_en.60.400.jpg', 'image_nutrition_small_url': 'https://images.openfoodfacts.net/images/products/301/762/401/0701/nutrition_en.63.200.jpg', 'image_nutrition_thumb_url': 'https://images.openfoodfacts.net/images/products/301/762/401/0701/nutrition_en.63.100.jpg', 'image_nutrition_url': 'https://images.openfoodfacts.net/images/products/301/762/401/0701/nutrition_en.63.400.jpg', 'image_packaging_small_url': 'https://images.openfoodfacts.net/images/products/301/762/401/0701/packaging_en.65.200.jpg', 'image_packaging_thumb_url': 'https://images.openfoodfacts.net/images/products/301/762/401/0701/packaging_en.65.100.jpg', 'image_packaging_url': 'https://images.openfoodfacts.net/images/products/301/762/401/0701/packaging_en.65.400.jpg', 'image_small_url': 'https://images.openfoodfacts.net/images/products/301/762/401/0701/front_en.54.200.jpg', 'image_thumb_url': 'https://images.openfoodfacts.net/images/products/301/762/401/0701/front_en.54.100.jpg', 'image_url': 'https://images.openfoodfacts.net/images/products/301/762/401/0701/front_en.54.400.jpg', 'images': {'10': {'sizes': {'100': {'h': 100, 'w': 70}, '400': {'h': 400, 'w': 281}, 'full': {'h': 1046, 'w': 735}}, 'uploaded_t': 1627479940, 'uploader': 'kiliweb'}, '11': {'sizes': {'100': {'h': 100, 'w': 75}, '400': {'h': 400, 'w': 300}, 'full': {'h': 1254, 'w': 941}}, 'uploaded_t': 1629534984, 'uploader': 'klaxon8791'}, '12': {'sizes': {'100': {'h': 80, 'w': 100}, '400': {'h': 322, 'w': 400}, 'full': {'h': 1825, 'w': 2268}}, 'uploaded_t': 1629535021, 'uploader': 'klaxon8791'}, '13': {'sizes': {'100': {'h': 100, 'w': 91}, '400': {'h': 400, 'w': 363}, 'full': {'h': 1945, 'w': 1764}}, 'uploaded_t': 1629535068, 'uploader': 'klaxon8791'}, '14': {'sizes': {'100': {'h': 91, 'w': 100}, '400': {'h': 365, 'w': 400}, 'full': {'h': 982, 'w': 1076}}, 'uploaded_t': 1629535202, 'uploader': 'klaxon8791'}, '3': {'sizes': {'100': {'h': 100, 'w': 75}, '400': {'h': 400, 'w': 300}, 'full': {'h': 4027, 'w': 3024}}, 'uploaded_t': 1602617706, 'uploader': 'openfoodfacts-contributors'}, '4': {'sizes': {'100': {'h': 100, 'w': 49}, '400': {'h': 400, 'w': 194}, 'full': {'h': 4032, 'w': 1960}}, 'uploaded_t': 1604912283, 'uploader': 'openfoodfacts-contributors'}, '5': {'sizes': {'100': {'h': 100, 'w': 49}, '400': {'h': 400, 'w': 194}, 'full': {'h': 4032, 'w': 1960}}, 'uploaded_t': 1604912283, 'uploader': 'openfoodfacts-contributors'}, '6': {'sizes': {'100': {'h': 100, 'w': 75}, '400': {'h': 400, 'w': 300}, 'full': {'h': 4032, 'w': 3024}}, 'uploaded_t': 1615901111, 'uploader': 'simsha55'}, '7': {'sizes': {'100': {'h': 100, 'w': 75}, '400': {'h': 400, 'w': 300}, 'full': {'h': 4032, 'w': 3024}}, 'uploaded_t': 1615901139, 'uploader': 'simsha55'}, '8': {'sizes': {'100': {'h': 100, 'w': 75}, '400': {'h': 400, 'w': 300}, 'full': {'h': 4032, 'w': 3024}}, 'uploaded_t': 1615901210, 'uploader': 'simsha55'}, '9': {'sizes': {'100': {'h': 100, 'w': 75}, '400': {'h': 400, 'w': 300}, 'full': {'h': 4000, 'w': 3000}}, 'uploaded_t': 1624566027, 'uploader': 'inf'}, 'front_en': {'angle': 0, 'coordinates_image_size': 'full', 'geometry': '0x0--1--1', 'imgid': '10', 'normalize': None, 'rev': '54', 'sizes': {'100': {'h': 100, 'w': 70}, '200': {'h': 200, 'w': 141}, '400': {'h': 400, 'w': 281}, 'full': {'h': 1046, 'w': 735}}, 'white_magic': None, 'x1': '-1', 'x2': '-1', 'y1': '-1', 'y2': '-1'}, 'ingredients_en': {'angle': None, 'coordinates_image_size': '400', 'geometry': '0x0-0-0', 'imgid': '12', 'normalize': None, 'rev': '60', 'sizes': {'100': {'h': 80, 'w': 100}, '200': {'h': 161, 'w': 200}, '400': {'h': 322, 'w': 400}, 'full': {'h': 1825, 'w': 2268}}, 'white_magic': None, 'x1': None, 'x2': None, 'y1': None, 'y2': None}, 'nutrition_en': {'angle': None, 'coordinates_image_size': '400', 'geometry': '0x0-0-0', 'imgid': '13', 'normalize': None, 'rev': '63', 'sizes': {'100': {'h': 100, 'w': 91}, '200': {'h': 200, 'w': 181}, '400': {'h': 400, 'w': 363}, 'full': {'h': 1945, 'w': 1764}}, 'white_magic': None, 'x1': None, 'x2': None, 'y1': None, 'y2': None}, 'packaging_en': {'angle': 0, 'coordinates_image_size': 'full', 'geometry': '0x0--1--1', 'imgid': '14', 'normalize': None, 'rev': '65', 'sizes': {'100': {'h': 91, 'w': 100}, '200': {'h': 183, 'w': 200}, '400': {'h': 365, 'w': 400}, 'full': {'h': 982, 'w': 1076}}, 'white_magic': None, 'x1': '-1', 'x2': '-1', 'y1': '-1', 'y2': '-1'}}, 'informers_tags': ['ldeveaux', 'teolemon', 'scanbot', 'nicolasleger', 'openfoodfacts-contributors', 'inf', 'swipe-studio', 'simsha55', 'vegan-app-chakib', 'yuka.sY2b0xO6T85zoF3NwEKvlkUYSvrf_GP4KTrkgWGIx_ueHpXYWo9Xvaf4Kas', 'klaxon8791', 'gmlaa'], 'ingredients': [{'ciqual_proxy_food_code': '31016', 'id': 'en:sugar', 'percent_estimate': 57.1428571428571, 'percent_max': 100, 'percent_min': 14.2857142857143, 'text': 'sugar', 'vegan': 'yes', 'vegetarian': 'yes'}, {'ciqual_food_code': '16129', 'from_palm_oil': 'yes', 'id': 'en:palm-oil', 'percent_estimate': 21.4285714285714, 'percent_max': 50, 'percent_min': 0, 'text': 'palm oil', 'vegan': 'yes', 'vegetarian': 'yes'}, {'ciqual_food_code': '15004', 'id': 'en:hazelnut', 'percent_estimate': 10.7142857142857, 'percent_max': 33.3333333333333, 'percent_min': 0, 'text': 'hazelnuts', 'vegan': 'yes', 'vegetarian': 'yes'}, {'ciqual_food_code': '19054', 'id': 'en:skimmed-milk-powder', 'percent_estimate': 5.35714285714286, 'percent_max': 25, 'percent_min': 0, 'text': 'skimmed milk powder', 'vegan': 'no', 'vegetarian': 'yes'}, {'ciqual_proxy_food_code': '18100', 'id': 'en:fat-reduced-cocoa', 'percent_estimate': 2.67857142857143, 'percent_max': 20, 'percent_min': 0, 'text': 'fat reduced cocoa', 'vegan': 'yes', 'vegetarian': 'yes'}, {'id': 'en:emulsifier', 'percent_estimate': 1.33928571428572, 'percent_max': 16.6666666666667, 'percent_min': 0, 'text': 'emulsifier'}, {'id': 'en:vanillin', 'percent_estimate': 1.33928571428572, 'percent_max': 14.2857142857143, 'percent_min': 0, 'text': 'vanillin'}], 'ingredients_analysis': {'en:non-vegan': ['en:skimmed-milk-powder'], 'en:palm-oil': ['en:palm-oil'], 'en:vegan-status-unknown': ['en:vanillin'], 'en:vegetarian-status-unknown': ['en:vanillin']}, 'ingredients_analysis_tags': ['en:palm-oil', 'en:non-vegan', 'en:vegetarian-status-unknown'], 'ingredients_from_or_that_may_be_from_palm_oil_n': 0, 'ingredients_from_palm_oil_n': 0, 'ingredients_from_palm_oil_tags': [], 'ingredients_hierarchy': ['en:sugar', 'en:added-sugar', 'en:disaccharide', 'en:palm-oil', 'en:oil-and-fat', 'en:vegetable-oil-and-fat', 'en:palm-oil-and-fat', 'en:hazelnut', 'en:nut', 'en:tree-nut', 'en:skimmed-milk-powder', 'en:dairy', 'en:milk-powder', 'en:fat-reduced-cocoa', 'en:plant', 'en:cocoa', 'en:emulsifier', 'en:vanillin'], 'ingredients_n': 7, 'ingredients_n_tags': ['7', '1-10'], 'ingredients_original_tags': ['en:sugar', 'en:palm-oil', 'en:hazelnut', 'en:skimmed-milk-powder', 'en:fat-reduced-cocoa', 'en:emulsifier', 'en:vanillin'], 'ingredients_percent_analysis': 1, 'ingredients_tags': ['en:sugar', 'en:added-sugar', 'en:disaccharide', 'en:palm-oil', 'en:oil-and-fat', 'en:vegetable-oil-and-fat', 'en:palm-oil-and-fat', 'en:hazelnut', 'en:nut', 'en:tree-nut', 'en:skimmed-milk-powder', 'en:dairy', 'en:milk-powder', 'en:fat-reduced-cocoa', 'en:plant', 'en:cocoa', 'en:emulsifier', 'en:vanillin'], 'ingredients_text': 'sugar, palm oil, hazelnuts, skimmed milk powder, fat reduced cocoa, emulsifier, vanillin', 'ingredients_text_en': 'sugar, palm oil, hazelnuts, skimmed milk powder, fat reduced cocoa, emulsifier, vanillin', 'ingredients_text_with_allergens': 'sugar, palm oil, <span class=\"allergen\">hazelnuts</span>, skimmed milk powder, fat reduced cocoa, emulsifier, vanillin', 'ingredients_text_with_allergens_en': 'sugar, palm oil, <span class=\"allergen\">hazelnuts</span>, skimmed milk powder, fat reduced cocoa, emulsifier, vanillin', 'ingredients_that_may_be_from_palm_oil_n': 0, 'ingredients_that_may_be_from_palm_oil_tags': [], 'ingredients_with_specified_percent_n': 0, 'ingredients_with_specified_percent_sum': 0, 'ingredients_with_unspecified_percent_n': 7, 'ingredients_with_unspecified_percent_sum': 100, 'ingredients_without_ciqual_codes': ['en:emulsifier', 'en:vanillin'], 'ingredients_without_ciqual_codes_n': 2, 'interface_version_created': '20150316.jqm2', 'interface_version_modified': '20150316.jqm2', 'known_ingredients_n': 18, 'labels': 'No gluten', 'labels_hierarchy': ['en:no-gluten'], 'labels_lc': 'en', 'labels_old': 'No gluten', 'labels_tags': ['en:no-gluten'], 'lang': 'en', 'languages': {'en:english': 5}, 'languages_codes': {'en': 5}, 'languages_hierarchy': ['en:english'], 'languages_tags': ['en:english', 'en:1'], 'last_edit_dates_tags': ['2023-09-08', '2023-09', '2023'], 'last_editor': 'howmany-app', 'last_image_dates_tags': ['2021-08-21', '2021-08', '2021'], 'last_image_t': 1629535203, 'last_modified_by': 'howmany-app', 'last_modified_t': 1694182616, 'last_updated_t': 1707753954, 'lc': 'en', 'link': '', 'main_countries_tags': [], 'manufacturing_places': '', 'manufacturing_places_tags': [], 'max_imgid': '14', 'minerals_tags': [], 'misc_tags': ['en:packagings-number-of-components-1', 'en:nutrition-no-fiber', 'en:nutriscore-computed', 'en:nutrition-fruits-vegetables-nuts-estimate-from-ingredients', 'en:nutrition-no-fiber-or-fruits-vegetables-nuts', 'en:nutrition-fruits-vegetables-legumes-estimate-from-ingredients', 'en:nutriscore-2021-same-as-2023', 'en:nutriscore-2021-e-2023-e', 'en:packagings-not-complete', 'en:packagings-not-empty-but-not-complete', 'en:packagings-not-empty', 'en:ecoscore-extended-data-not-computed', 'en:ecoscore-missing-data-warning', 'en:ecoscore-missing-data-labels', 'en:ecoscore-missing-data-origins', 'en:ecoscore-missing-data-packagings', 'en:ecoscore-computed', 'en:ecoscore-changed'], 'no_nutrition_data': '', 'nova_group': 4, 'nova_group_debug': '', 'nova_groups': '4', 'nova_groups_markers': {'3': [['ingredients', 'en:sugar'], ['ingredients', 'en:milk-powder']], '4': [['ingredients', 'en:emulsifier']]}, 'nova_groups_tags': ['en:4-ultra-processed-food-and-drink-products'], 'nucleotides_tags': [], 'nutrient_levels': {'fat': 'high', 'salt': 'low', 'saturated-fat': 'high', 'sugars': 'high'}, 'nutrient_levels_tags': ['en:fat-in-high-quantity', 'en:saturated-fat-in-high-quantity', 'en:sugars-in-high-quantity', 'en:salt-in-low-quantity'], 'nutriments': {'carbohydrates': 57.5, 'carbohydrates_100g': 57.5, 'carbohydrates_unit': 'g', 'carbohydrates_value': 57.5, 'energy': 2255, 'energy-kcal': 539, 'energy-kcal_100g': 539, 'energy-kcal_unit': 'kcal', 'energy-kcal_value': 539, 'energy-kcal_value_computed': 533.3, 'energy_100g': 2255, 'energy_unit': 'kcal', 'energy_value': 539, 'fat': 30.9, 'fat_100g': 30.9, 'fat_unit': 'g', 'fat_value': 30.9, 'fruits-vegetables-legumes-estimate-from-ingredients_100g': 0, 'fruits-vegetables-legumes-estimate-from-ingredients_serving': 0, 'fruits-vegetables-nuts-estimate-from-ingredients_100g': 10.7142857142857, 'fruits-vegetables-nuts-estimate-from-ingredients_serving': 10.7142857142857, 'nova-group': 4, 'nova-group_100g': 4, 'nova-group_serving': 4, 'nutrition-score-fr': 26, 'nutrition-score-fr_100g': 26, 'proteins': 6.3, 'proteins_100g': 6.3, 'proteins_unit': 'g', 'proteins_value': 6.3, 'salt': 0.1075, 'salt_100g': 0.1075, 'salt_unit': 'g', 'salt_value': 0.1075, 'saturated-fat': 10.6, 'saturated-fat_100g': 10.6, 'saturated-fat_unit': 'g', 'saturated-fat_value': 10.6, 'sodium': 0.043, 'sodium_100g': 0.043, 'sodium_unit': 'g', 'sodium_value': 0.043, 'sugars': 56.3, 'sugars_100g': 56.3, 'sugars_unit': 'g', 'sugars_value': 56.3}, 'nutriscore': {'2021': {'category_available': 1, 'data': {'energy': 2255, 'energy_points': 6, 'energy_value': 2255, 'fiber': 0, 'fiber_points': 0, 'fiber_value': 0, 'fruits_vegetables_nuts_colza_walnut_olive_oils': 10.7142857142857, 'fruits_vegetables_nuts_colza_walnut_olive_oils_points': 0, 'fruits_vegetables_nuts_colza_walnut_olive_oils_value': 10.7, 'is_beverage': 0, 'is_cheese': 0, 'is_fat': 0, 'is_water': 0, 'negative_points': 26, 'positive_points': 0, 'proteins': 6.3, 'proteins_points': 3, 'proteins_value': 6.3, 'saturated_fat': 10.6, 'saturated_fat_points': 10, 'saturated_fat_value': 10.6, 'sodium': 43, 'sodium_points': 0, 'sodium_value': 43, 'sugars': 56.3, 'sugars_points': 10, 'sugars_value': 56.3}, 'grade': 'e', 'nutrients_available': 1, 'nutriscore_applicable': 1, 'nutriscore_computed': 1, 'score': 26}, '2023': {'category_available': 1, 'data': {'components': {'negative': [{'id': 'energy', 'points': 6, 'points_max': 10, 'unit': 'kJ', 'value': 2255}, {'id': 'sugars', 'points': 15, 'points_max': 15, 'unit': 'g', 'value': 56.3}, {'id': 'saturated_fat', 'points': 10, 'points_max': 10, 'unit': 'g', 'value': 10.6}, {'id': 'salt', 'points': 0, 'points_max': 20, 'unit': 'g', 'value': 0.11}], 'positive': [{'id': 'fiber', 'points': 0, 'points_max': 5, 'unit': 'g', 'value': 0}, {'id': 'fruits_vegetables_legumes', 'points': 0, 'points_max': 5, 'unit': '%', 'value': 0}]}, 'count_proteins': 0, 'count_proteins_reason': 'negative_points_greater_than_or_equal_to_11', 'is_beverage': 0, 'is_cheese': 0, 'is_fat_oil_nuts_seeds': 0, 'is_red_meat_product': 0, 'is_water': 0, 'negative_points': 31, 'negative_points_max': 55, 'positive_nutrients': ['fiber', 'fruits_vegetables_legumes'], 'positive_points': 0, 'positive_points_max': 10}, 'grade': 'e', 'nutrients_available': 1, 'nutriscore_applicable': 1, 'nutriscore_computed': 1, 'score': 31}}, 'nutriscore_2021_tags': ['e'], 'nutriscore_2023_tags': ['e'], 'nutriscore_data': {'energy': 2255, 'energy_points': 6, 'energy_value': 2255, 'fiber': 0, 'fiber_points': 0, 'fiber_value': 0, 'fruits_vegetables_nuts_colza_walnut_olive_oils': 10.7142857142857, 'fruits_vegetables_nuts_colza_walnut_olive_oils_points': 0, 'fruits_vegetables_nuts_colza_walnut_olive_oils_value': 10.7, 'grade': 'e', 'is_beverage': 0, 'is_cheese': 0, 'is_fat': 0, 'is_water': 0, 'negative_points': 26, 'positive_points': 0, 'proteins': 6.3, 'proteins_points': 3, 'proteins_value': 6.3, 'saturated_fat': 10.6, 'saturated_fat_points': 10, 'saturated_fat_value': 10.6, 'score': 26, 'sodium': 43, 'sodium_points': 0, 'sodium_value': 43, 'sugars': 56.3, 'sugars_points': 10, 'sugars_value': 56.3}, 'nutriscore_grade': 'e', 'nutriscore_score': 26, 'nutriscore_score_opposite': -26, 'nutriscore_tags': ['e'], 'nutriscore_version': '2021', 'nutrition_data': 'on', 'nutrition_data_per': '100g', 'nutrition_data_prepared': '', 'nutrition_data_prepared_per': '100g', 'nutrition_grade_fr': 'e', 'nutrition_grades': 'e', 'nutrition_grades_tags': ['e'], 'nutrition_score_beverage': 0, 'nutrition_score_debug': '', 'nutrition_score_warning_fruits_vegetables_legumes_estimate_from_ingredients': 1, 'nutrition_score_warning_fruits_vegetables_legumes_estimate_from_ingredients_value': 0, 'nutrition_score_warning_fruits_vegetables_nuts_estimate_from_ingredients': 1, 'nutrition_score_warning_fruits_vegetables_nuts_estimate_from_ingredients_value': 10.7142857142857, 'nutrition_score_warning_no_fiber': 1, 'origin': '', 'origin_en': '', 'origins': '', 'origins_hierarchy': [], 'origins_lc': 'fr', 'origins_tags': [], 'other_nutritional_substances_tags': [], 'packaging': 'en:Glass-jar', 'packaging_hierarchy': ['en:Glass-jar'], 'packaging_lc': 'fr', 'packaging_materials_tags': ['en:glass'], 'packaging_old': 'en:glass-jar', 'packaging_old_before_taxonomization': 'glass-jar', 'packaging_recycling_tags': [], 'packaging_shapes_tags': ['en:jar'], 'packaging_tags': ['en:glass-jar'], 'packaging_text': '', 'packaging_text_en': '', 'packagings': [{'material': 'en:glass', 'shape': 'en:jar'}], 'packagings_materials': {'all': {}, 'en:glass': {}}, 'packagings_n': 1, 'photographers_tags': ['openfoodfacts-contributors', 'simsha55', 'inf', 'kiliweb', 'klaxon8791'], 'pnns_groups_1': 'Sugary snacks', 'pnns_groups_1_tags': ['sugary-snacks', 'known'], 'pnns_groups_2': 'Sweets', 'pnns_groups_2_tags': ['sweets', 'known'], 'popularity_key': 20950000001, 'popularity_tags': ['top-50000-scans-2019', 'top-100000-scans-2019', 'at-least-5-scans-2019', 'at-least-10-scans-2019', 'top-75-percent-scans-2019', 'top-80-percent-scans-2019', 'top-85-percent-scans-2019', 'top-90-percent-scans-2019', 'top-50-gb-scans-2019', 'top-100-gb-scans-2019', 'top-500-gb-scans-2019', 'top-1000-gb-scans-2019', 'top-5000-gb-scans-2019', 'top-10000-gb-scans-2019', 'top-50000-gb-scans-2019', 'top-100000-gb-scans-2019', 'top-country-gb-scans-2019', 'at-least-5-gb-scans-2019', 'top-50-ie-scans-2019', 'top-100-ie-scans-2019', 'top-500-ie-scans-2019', 'top-1000-ie-scans-2019', 'top-5000-ie-scans-2019', 'top-10000-ie-scans-2019', 'top-50000-ie-scans-2019', 'top-100000-ie-scans-2019', 'top-500-se-scans-2019', 'top-1000-se-scans-2019', 'top-5000-se-scans-2019', 'top-10000-se-scans-2019', 'top-50000-se-scans-2019', 'top-100000-se-scans-2019', 'top-1000-lb-scans-2019', 'top-5000-lb-scans-2019', 'top-10000-lb-scans-2019', 'top-50000-lb-scans-2019', 'top-100000-lb-scans-2019', 'top-500-my-scans-2019', 'top-1000-my-scans-2019', 'top-5000-my-scans-2019', 'top-10000-my-scans-2019', 'top-50000-my-scans-2019', 'top-100000-my-scans-2019', 'top-50-gi-scans-2019', 'top-100-gi-scans-2019', 'top-500-gi-scans-2019', 'top-1000-gi-scans-2019', 'top-5000-gi-scans-2019', 'top-10000-gi-scans-2019', 'top-50000-gi-scans-2019', 'top-100000-gi-scans-2019', 'top-50000-scans-2020', 'top-100000-scans-2020', 'at-least-5-scans-2020', 'at-least-10-scans-2020', 'top-75-percent-scans-2020', 'top-80-percent-scans-2020', 'top-85-percent-scans-2020', 'top-90-percent-scans-2020', 'top-100-gb-scans-2020', 'top-500-gb-scans-2020', 'top-1000-gb-scans-2020', 'top-5000-gb-scans-2020', 'top-10000-gb-scans-2020', 'top-50000-gb-scans-2020', 'top-100000-gb-scans-2020', 'top-country-gb-scans-2020', 'at-least-5-gb-scans-2020', 'top-100000-fr-scans-2020', 'at-least-5-fr-scans-2020', 'top-500-is-scans-2020', 'top-1000-is-scans-2020', 'top-5000-is-scans-2020', 'top-10000-is-scans-2020', 'top-50000-is-scans-2020', 'top-100000-is-scans-2020', 'top-500-ae-scans-2020', 'top-1000-ae-scans-2020', 'top-5000-ae-scans-2020', 'top-10000-ae-scans-2020', 'top-50000-ae-scans-2020', 'top-100000-ae-scans-2020', 'top-500-pk-scans-2020', 'top-1000-pk-scans-2020', 'top-5000-pk-scans-2020', 'top-10000-pk-scans-2020', 'top-50000-pk-scans-2020', 'top-100000-pk-scans-2020', 'top-50000-de-scans-2020', 'top-100000-de-scans-2020', 'top-100-ir-scans-2020', 'top-500-ir-scans-2020', 'top-1000-ir-scans-2020', 'top-5000-ir-scans-2020', 'top-10000-ir-scans-2020', 'top-50000-ir-scans-2020', 'top-100000-ir-scans-2020', 'top-5000-ma-scans-2020', 'top-10000-ma-scans-2020', 'top-50000-ma-scans-2020', 'top-100000-ma-scans-2020', 'top-5000-mx-scans-2020', 'top-10000-mx-scans-2020', 'top-50000-mx-scans-2020', 'top-100000-mx-scans-2020', 'top-50000-scans-2021', 'top-100000-scans-2021', 'at-least-5-scans-2021', 'at-least-10-scans-2021', 'top-75-percent-scans-2021', 'top-80-percent-scans-2021', 'top-85-percent-scans-2021', 'top-90-percent-scans-2021', 'top-100-gb-scans-2021', 'top-500-gb-scans-2021', 'top-1000-gb-scans-2021', 'top-5000-gb-scans-2021', 'top-10000-gb-scans-2021', 'top-50000-gb-scans-2021', 'top-100000-gb-scans-2021', 'top-country-gb-scans-2021', 'at-least-5-gb-scans-2021', 'at-least-10-gb-scans-2021', 'top-500-in-scans-2021', 'top-1000-in-scans-2021', 'top-5000-in-scans-2021', 'top-10000-in-scans-2021', 'top-50000-in-scans-2021', 'top-100000-in-scans-2021', 'top-500-ph-scans-2021', 'top-1000-ph-scans-2021', 'top-5000-ph-scans-2021', 'top-10000-ph-scans-2021', 'top-50000-ph-scans-2021', 'top-100000-ph-scans-2021', 'top-10000-at-scans-2021', 'top-50000-at-scans-2021', 'top-100000-at-scans-2021', 'top-10000-us-scans-2021', 'top-50000-us-scans-2021', 'top-100000-us-scans-2021', 'top-75-percent-scans-2022', 'top-80-percent-scans-2022', 'top-85-percent-scans-2022', 'top-90-percent-scans-2022', 'top-50-im-scans-2022', 'top-100-im-scans-2022', 'top-500-im-scans-2022', 'top-1000-im-scans-2022', 'top-5000-im-scans-2022', 'top-10000-im-scans-2022', 'top-50000-im-scans-2022', 'top-100000-im-scans-2022', 'top-country-im-scans-2022', 'top-100000-fr-scans-2022', 'top-75-percent-scans-2023', 'top-80-percent-scans-2023', 'top-85-percent-scans-2023', 'top-90-percent-scans-2023', 'top-50000-gb-scans-2023', 'top-100000-gb-scans-2023', 'top-country-gb-scans-2023'], 'product_name': 'Nutella', 'product_name_en': 'Nutella', 'purchase_places': '', 'purchase_places_tags': [], 'quantity': '', 'removed_countries_tags': [], 'rev': 73, 'scans_n': 1, 'selected_images': {'front': {'display': {'en': 'https://images.openfoodfacts.net/images/products/301/762/401/0701/front_en.54.400.jpg'}, 'small': {'en': 'https://images.openfoodfacts.net/images/products/301/762/401/0701/front_en.54.200.jpg'}, 'thumb': {'en': 'https://images.openfoodfacts.net/images/products/301/762/401/0701/front_en.54.100.jpg'}}, 'ingredients': {'display': {'en': 'https://images.openfoodfacts.net/images/products/301/762/401/0701/ingredients_en.60.400.jpg'}, 'small': {'en': 'https://images.openfoodfacts.net/images/products/301/762/401/0701/ingredients_en.60.200.jpg'}, 'thumb': {'en': 'https://images.openfoodfacts.net/images/products/301/762/401/0701/ingredients_en.60.100.jpg'}}, 'nutrition': {'display': {'en': 'https://images.openfoodfacts.net/images/products/301/762/401/0701/nutrition_en.63.400.jpg'}, 'small': {'en': 'https://images.openfoodfacts.net/images/products/301/762/401/0701/nutrition_en.63.200.jpg'}, 'thumb': {'en': 'https://images.openfoodfacts.net/images/products/301/762/401/0701/nutrition_en.63.100.jpg'}}, 'packaging': {'display': {'en': 'https://images.openfoodfacts.net/images/products/301/762/401/0701/packaging_en.65.400.jpg'}, 'small': {'en': 'https://images.openfoodfacts.net/images/products/301/762/401/0701/packaging_en.65.200.jpg'}, 'thumb': {'en': 'https://images.openfoodfacts.net/images/products/301/762/401/0701/packaging_en.65.100.jpg'}}}, 'sortkey': 1610715435, 'states': 'en:to-be-completed, en:nutrition-facts-completed, en:ingredients-completed, en:expiration-date-to-be-completed, en:packaging-code-to-be-completed, en:characteristics-to-be-completed, en:origins-to-be-completed, en:categories-completed, en:brands-completed, en:packaging-completed, en:quantity-to-be-completed, en:product-name-completed, en:photos-validated, en:packaging-photo-selected, en:nutrition-photo-selected, en:ingredients-photo-selected, en:front-photo-selected, en:photos-uploaded', 'states_hierarchy': ['en:to-be-completed', 'en:nutrition-facts-completed', 'en:ingredients-completed', 'en:expiration-date-to-be-completed', 'en:packaging-code-to-be-completed', 'en:characteristics-to-be-completed', 'en:origins-to-be-completed', 'en:categories-completed', 'en:brands-completed', 'en:packaging-completed', 'en:quantity-to-be-completed', 'en:product-name-completed', 'en:photos-validated', 'en:packaging-photo-selected', 'en:nutrition-photo-selected', 'en:ingredients-photo-selected', 'en:front-photo-selected', 'en:photos-uploaded'], 'states_tags': ['en:to-be-completed', 'en:nutrition-facts-completed', 'en:ingredients-completed', 'en:expiration-date-to-be-completed', 'en:packaging-code-to-be-completed', 'en:characteristics-to-be-completed', 'en:origins-to-be-completed', 'en:categories-completed', 'en:brands-completed', 'en:packaging-completed', 'en:quantity-to-be-completed', 'en:product-name-completed', 'en:photos-validated', 'en:packaging-photo-selected', 'en:nutrition-photo-selected', 'en:ingredients-photo-selected', 'en:front-photo-selected', 'en:photos-uploaded'], 'stores': '', 'stores_tags': [], 'teams': 'swipe-studio,howmany', 'teams_tags': ['swipe-studio', 'howmany'], 'traces': 'en:milk,en:nuts,en:soybeans', 'traces_from_ingredients': '', 'traces_from_user': '(fr) en:milk,en:nuts,en:soybeans', 'traces_hierarchy': ['en:milk', 'en:nuts', 'en:soybeans'], 'traces_lc': 'fr', 'traces_tags': ['en:milk', 'en:nuts', 'en:soybeans'], 'unique_scans_n': 1, 'unknown_ingredients_n': 0, 'unknown_nutrients_tags': [], 'update_key': '20240209', 'vitamins_tags': [], 'weighers_tags': []}, 'status': 1, 'status_verbose': 'product found'}\n"
      ]
     },
     "metadata": {},
     "output_type": "display_data"
    }
   ],
   "source": [
    "import requests\n",
    "barcode = \"3017624010701\"  # Nutella Ferrero barcode\n",
    "url = f\"https://world.openfoodfacts.net/api/v2/product/{barcode}\"\n",
    "response = requests.get(url)\n",
    "if response.status_code == 200:\n",
    "    product_data = response.json()\n",
    "    print(product_data)\n",
    "else:\n",
    "    print(f\"Failed to retrieve data. Status code: {response.status_code}\")\n",
    "\n"
   ]
  }
 ],
 "metadata": {
  "language_info": {
   "name": "python"
  }
 },
 "nbformat": 4,
 "nbformat_minor": 2
}
